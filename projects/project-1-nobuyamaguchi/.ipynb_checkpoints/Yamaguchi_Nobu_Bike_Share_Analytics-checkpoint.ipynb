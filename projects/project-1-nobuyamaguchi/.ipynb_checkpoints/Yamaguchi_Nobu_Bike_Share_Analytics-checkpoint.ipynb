{
 "cells": [
  {
   "cell_type": "markdown",
   "metadata": {},
   "source": [
    "<h1>W205 Fall Project 1 - Bike Share Analysis\n",
    "    <h2>Nobu Yamaguchi"
   ]
  },
  {
   "cell_type": "markdown",
   "metadata": {},
   "source": [
    "<h3>Executive Summary\n",
    "    <h4>Q1.  What are the 5 most popular trips that I would call \"commuter trips\"?"
   ]
  },
  {
   "cell_type": "markdown",
   "metadata": {},
   "source": [
    "<h4>A1-a. The top 5 most popular \"commuter\" trips in the morning are:\n",
    "\n",
    "1. Harry Bridges Plaza (Ferry Building) to 2nd at Townsend\n",
    "2. Steuart at Market to 2nd at Townsend\n",
    "3. San Francisco Caltrain 2 (330 Townsend) to Townsend at 7th\n",
    "4. San Francisco Caltrain (Townsend at 4th) to Embarcadero at Folsom\n",
    "5. San Francisco Caltrain (Townsend at 4th) to Temporary Transbay Terminal (Howard at Beale)"
   ]
  },
  {
   "cell_type": "markdown",
   "metadata": {},
   "source": [
    "<h4>A1-b. The top 5 most popular \"commute\" trips in the evening are:\n",
    "\n",
    "1. 2nd at Townsend to Harry Bridges Plaza (Ferry Building)\n",
    "2. Embarcadero at Folsom to San Francisco Caltrain (Townsend at 4th)\n",
    "3. Embarcadero at Sansome to Steuart at Market\n",
    "4. Steuart at Market to San Francisco Caltrain (Townsend at 4th)\n",
    "5. Temporary Transbay Terminal (Howard at Beale) to San Francisco Caltrain (Townsend at 4th)"
   ]
  },
  {
   "cell_type": "markdown",
   "metadata": {},
   "source": [
    "<h4>$\\rightarrow $From the findings above, top 5 most popular commutings are for Ferry commuters, Caltrain commuters and BART commuters. It is possible to say that bike share ride is popular for Ferry commuters and Caltrain commuters. They combine either Ferry,  Caltrain, or BART and bike share to commute."
   ]
  },
  {
   "cell_type": "markdown",
   "metadata": {},
   "source": [
    "<h4>Q2. What are my recommendations for offers ?"
   ]
  },
  {
   "cell_type": "markdown",
   "metadata": {},
   "source": [
    "<h4>A2. There are two recommendations for offers."
   ]
  },
  {
   "cell_type": "markdown",
   "metadata": {},
   "source": [
    "<h4>First, in order to attract more public transportation commuters, including Caltrain, Ferry, Bus and BART, Ford Bike can offer combo package with other public transportation company. Ford Bike can reach more potantial customers by utilizing other transportation companies' channels.\n",
    "    \n",
    "Second, in order to acquiring more customers who usually use Muni, Ford Bike can offer a one-day commuting plan, with close to the price of Muni. Although the price is lower, Ford Bike can limit the usage to twice a day and less than 15 minutes."
   ]
  },
  {
   "cell_type": "markdown",
   "metadata": {},
   "source": [
    "<h3>Introduction\n",
    "    <h4>I am a data scientist at Ford GoBike (https://www.fordgobike.com/), the company running Bay Area Bikeshare. I am trying to increase ridership, and I want to offer deals through the mobile app to do so.  Currently, the company has three options: a flat price for a single one-way trip, a day pass that allows unlimited 30-minute rides for 24 hours and an annual membership. \n",
    "\n",
    "- Through this project, I will answer these questions: \n",
    "  * What are the 5 most popular trips that you would call \"commuter trips\"?\n",
    "  * What are my recommendations for offers?"
   ]
  },
  {
   "cell_type": "markdown",
   "metadata": {},
   "source": [
    "<h3>Explanation"
   ]
  },
  {
   "cell_type": "code",
   "execution_count": 1,
   "metadata": {},
   "outputs": [],
   "source": [
    "import pandas as pd\n",
    "import matplotlib.pyplot as plt\n",
    "%matplotlib inline\n",
    "import folium\n",
    "from folium import plugins\n",
    "from folium.plugins import HeatMap"
   ]
  },
  {
   "cell_type": "markdown",
   "metadata": {},
   "source": [
    "<h4>I assume that \"commute\" happens during the weekday. Although some people commute on weekday, many of the companies are off on weekend. Therefore, I extracted the data from Monday to Friday using the following SQL."
   ]
  },
  {
   "cell_type": "code",
   "execution_count": 2,
   "metadata": {},
   "outputs": [
    {
     "name": "stdout",
     "output_type": "stream",
     "text": [
      "\r",
      "Waiting on bqjob_r384dff85fe5dd10_0000016d653220de_1 ... (0s) Current status: DONE   "
     ]
    }
   ],
   "source": [
    "!bq query --use_legacy_sql=false --format=csv 'SELECT extract(hour FROM start_date) AS hour, count(*) AS count FROM `bigquery-public-data.san_francisco.bikeshare_trips` WHERE (extract(dayofweek from start_date) > 1 AND extract(dayofweek from start_date) < 7) AND duration_sec < 60*60*24 AND duration_sec > 60*3 AND start_station_name != end_station_name GROUP BY hour ORDER BY hour' > hour.csv"
   ]
  },
  {
   "cell_type": "code",
   "execution_count": 3,
   "metadata": {},
   "outputs": [
    {
     "data": {
      "text/html": [
       "<div>\n",
       "<style scoped>\n",
       "    .dataframe tbody tr th:only-of-type {\n",
       "        vertical-align: middle;\n",
       "    }\n",
       "\n",
       "    .dataframe tbody tr th {\n",
       "        vertical-align: top;\n",
       "    }\n",
       "\n",
       "    .dataframe thead th {\n",
       "        text-align: right;\n",
       "    }\n",
       "</style>\n",
       "<table border=\"1\" class=\"dataframe\">\n",
       "  <thead>\n",
       "    <tr style=\"text-align: right;\">\n",
       "      <th></th>\n",
       "      <th>hour</th>\n",
       "      <th>count</th>\n",
       "    </tr>\n",
       "  </thead>\n",
       "  <tbody>\n",
       "    <tr>\n",
       "      <th>0</th>\n",
       "      <td>0</td>\n",
       "      <td>1466</td>\n",
       "    </tr>\n",
       "    <tr>\n",
       "      <th>1</th>\n",
       "      <td>1</td>\n",
       "      <td>667</td>\n",
       "    </tr>\n",
       "    <tr>\n",
       "      <th>2</th>\n",
       "      <td>2</td>\n",
       "      <td>357</td>\n",
       "    </tr>\n",
       "    <tr>\n",
       "      <th>3</th>\n",
       "      <td>3</td>\n",
       "      <td>394</td>\n",
       "    </tr>\n",
       "    <tr>\n",
       "      <th>4</th>\n",
       "      <td>4</td>\n",
       "      <td>865</td>\n",
       "    </tr>\n",
       "    <tr>\n",
       "      <th>5</th>\n",
       "      <td>5</td>\n",
       "      <td>4324</td>\n",
       "    </tr>\n",
       "    <tr>\n",
       "      <th>6</th>\n",
       "      <td>6</td>\n",
       "      <td>18646</td>\n",
       "    </tr>\n",
       "    <tr>\n",
       "      <th>7</th>\n",
       "      <td>7</td>\n",
       "      <td>63764</td>\n",
       "    </tr>\n",
       "    <tr>\n",
       "      <th>8</th>\n",
       "      <td>8</td>\n",
       "      <td>124924</td>\n",
       "    </tr>\n",
       "    <tr>\n",
       "      <th>9</th>\n",
       "      <td>9</td>\n",
       "      <td>86535</td>\n",
       "    </tr>\n",
       "    <tr>\n",
       "      <th>10</th>\n",
       "      <td>10</td>\n",
       "      <td>32176</td>\n",
       "    </tr>\n",
       "    <tr>\n",
       "      <th>11</th>\n",
       "      <td>11</td>\n",
       "      <td>27763</td>\n",
       "    </tr>\n",
       "    <tr>\n",
       "      <th>12</th>\n",
       "      <td>12</td>\n",
       "      <td>32574</td>\n",
       "    </tr>\n",
       "    <tr>\n",
       "      <th>13</th>\n",
       "      <td>13</td>\n",
       "      <td>29578</td>\n",
       "    </tr>\n",
       "    <tr>\n",
       "      <th>14</th>\n",
       "      <td>14</td>\n",
       "      <td>24678</td>\n",
       "    </tr>\n",
       "    <tr>\n",
       "      <th>15</th>\n",
       "      <td>15</td>\n",
       "      <td>34447</td>\n",
       "    </tr>\n",
       "    <tr>\n",
       "      <th>16</th>\n",
       "      <td>16</td>\n",
       "      <td>75191</td>\n",
       "    </tr>\n",
       "    <tr>\n",
       "      <th>17</th>\n",
       "      <td>17</td>\n",
       "      <td>114261</td>\n",
       "    </tr>\n",
       "    <tr>\n",
       "      <th>18</th>\n",
       "      <td>18</td>\n",
       "      <td>74676</td>\n",
       "    </tr>\n",
       "    <tr>\n",
       "      <th>19</th>\n",
       "      <td>19</td>\n",
       "      <td>34364</td>\n",
       "    </tr>\n",
       "    <tr>\n",
       "      <th>20</th>\n",
       "      <td>20</td>\n",
       "      <td>18057</td>\n",
       "    </tr>\n",
       "    <tr>\n",
       "      <th>21</th>\n",
       "      <td>21</td>\n",
       "      <td>11888</td>\n",
       "    </tr>\n",
       "    <tr>\n",
       "      <th>22</th>\n",
       "      <td>22</td>\n",
       "      <td>7666</td>\n",
       "    </tr>\n",
       "    <tr>\n",
       "      <th>23</th>\n",
       "      <td>23</td>\n",
       "      <td>4308</td>\n",
       "    </tr>\n",
       "  </tbody>\n",
       "</table>\n",
       "</div>"
      ],
      "text/plain": [
       "    hour   count\n",
       "0      0    1466\n",
       "1      1     667\n",
       "2      2     357\n",
       "3      3     394\n",
       "4      4     865\n",
       "5      5    4324\n",
       "6      6   18646\n",
       "7      7   63764\n",
       "8      8  124924\n",
       "9      9   86535\n",
       "10    10   32176\n",
       "11    11   27763\n",
       "12    12   32574\n",
       "13    13   29578\n",
       "14    14   24678\n",
       "15    15   34447\n",
       "16    16   75191\n",
       "17    17  114261\n",
       "18    18   74676\n",
       "19    19   34364\n",
       "20    20   18057\n",
       "21    21   11888\n",
       "22    22    7666\n",
       "23    23    4308"
      ]
     },
     "execution_count": 3,
     "metadata": {},
     "output_type": "execute_result"
    }
   ],
   "source": [
    "trip_count_hour = pd.read_csv('hour.csv')\n",
    "trip_count_hour.set_index('hour')\n",
    "trip_count_hour"
   ]
  },
  {
   "cell_type": "code",
   "execution_count": 4,
   "metadata": {},
   "outputs": [
    {
     "data": {
      "image/png": "[encoded data removed]",
      "text/plain": [
       "<Figure size 432x288 with 1 Axes>"
      ]
     },
     "metadata": {
      "needs_background": "light"
     },
     "output_type": "display_data"
    }
   ],
   "source": [
    "x =list(trip_count_hour['hour'])\n",
    "y =list(trip_count_hour['count'])\n",
    "\n",
    "colors = []\n",
    "for i in range(len(y)):\n",
    "    # set the threshhold at 50000\n",
    "    if y[i] >= 50000:\n",
    "        colors.append('red')\n",
    "    else:\n",
    "        colors.append('blue')\n",
    "\n",
    "fig, ax = plt.subplots()\n",
    "ax.bar(x, y, label='count', color=colors)\n",
    "ax.set_xlabel('hour')\n",
    "ax.set_ylabel('total count')\n",
    "ax.legend(loc='upper right')\n",
    "pass"
   ]
  },
  {
   "cell_type": "markdown",
   "metadata": {},
   "source": [
    "<h4>From the bar chart above, I define commuting as follows:\n",
    "    <h5>from 7am to 9am in the morning\n",
    "        \n",
    "  from 4pm to 6pm in the evening"
   ]
  },
  {
   "cell_type": "markdown",
   "metadata": {},
   "source": [
    "<h4>From here, I run the following SQL to answer the first question: *What are the 5 most popular trips that you would call \"commuter trips\"?*"
   ]
  },
  {
   "cell_type": "markdown",
   "metadata": {},
   "source": [
    "<h4>Initially, I thought the popular trips in the morning and evening are same. However, I need to check if my assumption is true. Therefore, first, I run the following SQL finds the 5 most popular commuter trips in the morning."
   ]
  },
  {
   "cell_type": "code",
   "execution_count": 5,
   "metadata": {},
   "outputs": [
    {
     "name": "stdout",
     "output_type": "stream",
     "text": [
      "\r",
      "Waiting on bqjob_r375baabe9de97207_0000016d653260b7_1 ... (0s) Current status: DONE   "
     ]
    },
    {
     "data": {
      "text/html": [
       "<div>\n",
       "<style scoped>\n",
       "    .dataframe tbody tr th:only-of-type {\n",
       "        vertical-align: middle;\n",
       "    }\n",
       "\n",
       "    .dataframe tbody tr th {\n",
       "        vertical-align: top;\n",
       "    }\n",
       "\n",
       "    .dataframe thead th {\n",
       "        text-align: right;\n",
       "    }\n",
       "</style>\n",
       "<table border=\"1\" class=\"dataframe\">\n",
       "  <thead>\n",
       "    <tr style=\"text-align: right;\">\n",
       "      <th></th>\n",
       "      <th>start_station_name</th>\n",
       "      <th>end_station_name</th>\n",
       "      <th>count</th>\n",
       "    </tr>\n",
       "  </thead>\n",
       "  <tbody>\n",
       "    <tr>\n",
       "      <th>0</th>\n",
       "      <td>Harry Bridges Plaza (Ferry Building)</td>\n",
       "      <td>2nd at Townsend</td>\n",
       "      <td>4509</td>\n",
       "    </tr>\n",
       "    <tr>\n",
       "      <th>1</th>\n",
       "      <td>Steuart at Market</td>\n",
       "      <td>2nd at Townsend</td>\n",
       "      <td>3759</td>\n",
       "    </tr>\n",
       "    <tr>\n",
       "      <th>2</th>\n",
       "      <td>San Francisco Caltrain 2 (330 Townsend)</td>\n",
       "      <td>Townsend at 7th</td>\n",
       "      <td>3512</td>\n",
       "    </tr>\n",
       "    <tr>\n",
       "      <th>3</th>\n",
       "      <td>San Francisco Caltrain (Townsend at 4th)</td>\n",
       "      <td>Embarcadero at Folsom</td>\n",
       "      <td>3364</td>\n",
       "    </tr>\n",
       "    <tr>\n",
       "      <th>4</th>\n",
       "      <td>San Francisco Caltrain (Townsend at 4th)</td>\n",
       "      <td>Temporary Transbay Terminal (Howard at Beale)</td>\n",
       "      <td>3126</td>\n",
       "    </tr>\n",
       "  </tbody>\n",
       "</table>\n",
       "</div>"
      ],
      "text/plain": [
       "                         start_station_name  \\\n",
       "0      Harry Bridges Plaza (Ferry Building)   \n",
       "1                         Steuart at Market   \n",
       "2   San Francisco Caltrain 2 (330 Townsend)   \n",
       "3  San Francisco Caltrain (Townsend at 4th)   \n",
       "4  San Francisco Caltrain (Townsend at 4th)   \n",
       "\n",
       "                                end_station_name  count  \n",
       "0                                2nd at Townsend   4509  \n",
       "1                                2nd at Townsend   3759  \n",
       "2                                Townsend at 7th   3512  \n",
       "3                          Embarcadero at Folsom   3364  \n",
       "4  Temporary Transbay Terminal (Howard at Beale)   3126  "
      ]
     },
     "execution_count": 5,
     "metadata": {},
     "output_type": "execute_result"
    }
   ],
   "source": [
    "!bq query --use_legacy_sql=false --format=csv 'SELECT start_station_name, end_station_name, count(*) as count FROM `bigquery-public-data.san_francisco.bikeshare_trips` WHERE (extract(dayofweek from start_date) > 1 AND extract(dayofweek from start_date) < 7) AND (extract(hour from start_date) > 6 AND extract(hour from start_date) < 10) AND start_station_name != end_station_name GROUP BY start_station_name, end_station_name ORDER BY count DESC LIMIT 20' > morning_top_20.csv\n",
    "\n",
    "morning_top_20 = pd.read_csv('morning_top_20.csv')\n",
    "morning_top_20.head()"
   ]
  },
  {
   "cell_type": "markdown",
   "metadata": {},
   "source": [
    "The top 5 most popular \"commute\" routes in the morning are:\n",
    "1. Harry Bridges Plaza (Ferry Building) to 2nd at Townsend\n",
    "2. Steuart at Market to 2nd at Townsend\n",
    "3. San Francisco Caltrain 2 (330 Townsend) to Townsend at 7th\n",
    "4. San Francisco Caltrain (Townsend at 4th) to Embarcadero at Folsom\n",
    "5. San Francisco Caltrain (Townsend at 4th) to Temporary Transbay Terminal (Howard at Beale)\n",
    "\n",
    "The first route is the one for Ferry commuters who go to the office at SOMA. The second one is for BART commuters who go to the office at SOMA.\n",
    "The following 3 routes are the ones for Cultrain commuters."
   ]
  },
  {
   "cell_type": "markdown",
   "metadata": {},
   "source": [
    "<h4>Second, the following SQL finds the 5 most popular commuter trips in the evening."
   ]
  },
  {
   "cell_type": "code",
   "execution_count": 6,
   "metadata": {},
   "outputs": [
    {
     "name": "stdout",
     "output_type": "stream",
     "text": [
      "\r",
      "Waiting on bqjob_r61016618c679b4a6_0000016d65327b71_1 ... (0s) Current status: DONE   "
     ]
    },
    {
     "data": {
      "text/html": [
       "<div>\n",
       "<style scoped>\n",
       "    .dataframe tbody tr th:only-of-type {\n",
       "        vertical-align: middle;\n",
       "    }\n",
       "\n",
       "    .dataframe tbody tr th {\n",
       "        vertical-align: top;\n",
       "    }\n",
       "\n",
       "    .dataframe thead th {\n",
       "        text-align: right;\n",
       "    }\n",
       "</style>\n",
       "<table border=\"1\" class=\"dataframe\">\n",
       "  <thead>\n",
       "    <tr style=\"text-align: right;\">\n",
       "      <th></th>\n",
       "      <th>start_station_name</th>\n",
       "      <th>end_station_name</th>\n",
       "      <th>count</th>\n",
       "    </tr>\n",
       "  </thead>\n",
       "  <tbody>\n",
       "    <tr>\n",
       "      <th>0</th>\n",
       "      <td>2nd at Townsend</td>\n",
       "      <td>Harry Bridges Plaza (Ferry Building)</td>\n",
       "      <td>4191</td>\n",
       "    </tr>\n",
       "    <tr>\n",
       "      <th>1</th>\n",
       "      <td>Embarcadero at Folsom</td>\n",
       "      <td>San Francisco Caltrain (Townsend at 4th)</td>\n",
       "      <td>4022</td>\n",
       "    </tr>\n",
       "    <tr>\n",
       "      <th>2</th>\n",
       "      <td>Embarcadero at Sansome</td>\n",
       "      <td>Steuart at Market</td>\n",
       "      <td>3863</td>\n",
       "    </tr>\n",
       "    <tr>\n",
       "      <th>3</th>\n",
       "      <td>Steuart at Market</td>\n",
       "      <td>San Francisco Caltrain (Townsend at 4th)</td>\n",
       "      <td>3393</td>\n",
       "    </tr>\n",
       "    <tr>\n",
       "      <th>4</th>\n",
       "      <td>Temporary Transbay Terminal (Howard at Beale)</td>\n",
       "      <td>San Francisco Caltrain (Townsend at 4th)</td>\n",
       "      <td>3326</td>\n",
       "    </tr>\n",
       "  </tbody>\n",
       "</table>\n",
       "</div>"
      ],
      "text/plain": [
       "                              start_station_name  \\\n",
       "0                                2nd at Townsend   \n",
       "1                          Embarcadero at Folsom   \n",
       "2                         Embarcadero at Sansome   \n",
       "3                              Steuart at Market   \n",
       "4  Temporary Transbay Terminal (Howard at Beale)   \n",
       "\n",
       "                           end_station_name  count  \n",
       "0      Harry Bridges Plaza (Ferry Building)   4191  \n",
       "1  San Francisco Caltrain (Townsend at 4th)   4022  \n",
       "2                         Steuart at Market   3863  \n",
       "3  San Francisco Caltrain (Townsend at 4th)   3393  \n",
       "4  San Francisco Caltrain (Townsend at 4th)   3326  "
      ]
     },
     "execution_count": 6,
     "metadata": {},
     "output_type": "execute_result"
    }
   ],
   "source": [
    "!bq query --use_legacy_sql=false --format=csv   'SELECT start_station_name, end_station_name, count(*) as count FROM `bigquery-public-data.san_francisco.bikeshare_trips` WHERE (extract(dayofweek from start_date) > 1 AND extract(dayofweek from start_date) < 7) AND (extract(hour from start_date) > 15 AND extract(hour from start_date) < 19) AND start_station_name != end_station_name GROUP BY start_station_name, end_station_name ORDER BY count DESC LIMIT 20' > evening_top_20.csv\n",
    "evening_top_20 = pd.read_csv('evening_top_20.csv')\n",
    "evening_top_20.head()"
   ]
  },
  {
   "cell_type": "markdown",
   "metadata": {},
   "source": [
    "According to the results, the order is different. Therefore, I answer the question for morning and evening separately.\n",
    "\n",
    "The top 5 most popular \"commute\" routes in the evening are:\n",
    "1. 2nd at Townsend to Harry Bridges Plaza (Ferry Building)\n",
    "2. Embarcadero at Folsom to San Francisco Caltrain (Townsend at 4th)\n",
    "3. Embarcadero at Sansome to Steuart at Market\n",
    "4. Steuart at Market to San Francisco Caltrain (Townsend at 4th)\n",
    "5. Temporary Transbay Terminal (Howard at Beale) to San Francisco Caltrain (Townsend at 4th)\n",
    "\n",
    "The first routes is the one for Ferry commuters who works at SOMA. The third one is for BART commuters who work at the north of Financial District. \n",
    "The other 3 routes are the ones for Cultrain commuters."
   ]
  },
  {
   "cell_type": "markdown",
   "metadata": {},
   "source": [
    "<h4>$\\rightarrow $From the findings above, top 5 most popular commutings are for Ferry commuters, Caltrain commuters and BART commuters. It is possible to say that bike share ride is popular for Ferry commuters and Caltrain commuters. They combine either Ferry,  Caltrain, or BART and bike share to commute.\n",
    "    \n",
    "From the two tables above, I realized that number of top 5 popular commuting in the evening is smaller than that in the morning. I doubt that there are not enough bikes at the station. Therefore, I run the following SQL to check my assumption."
   ]
  },
  {
   "cell_type": "code",
   "execution_count": 7,
   "metadata": {},
   "outputs": [
    {
     "name": "stdout",
     "output_type": "stream",
     "text": [
      "Waiting on bqjob_r21f985b4bb5a7dcb_0000016d6532948d_1 ... (0s) Current status: DONE   \n",
      "+------------+-----------------------------------------------+--------------+\n",
      "| station_id |              start_station_name               | availability |\n",
      "+------------+-----------------------------------------------+--------------+\n",
      "|         64 | 2nd at South Park                             |        0.569 |\n",
      "|         55 | Temporary Transbay Terminal (Howard at Beale) |        0.574 |\n",
      "|         74 | Steuart at Market                             |        0.579 |\n",
      "|         51 | Embarcadero at Folsom                         |        0.649 |\n",
      "|         60 | Embarcadero at Sansome                        |        0.575 |\n",
      "|         65 | Townsend at 7th                               |        0.564 |\n",
      "|         69 | San Francisco Caltrain 2 (330 Townsend)       |         0.57 |\n",
      "|         70 | San Francisco Caltrain (Townsend at 4th)      |         0.38 |\n",
      "|         77 | Market at Sansome                             |        0.516 |\n",
      "|         61 | 2nd at Townsend                               |        0.561 |\n",
      "+------------+-----------------------------------------------+--------------+\n"
     ]
    }
   ],
   "source": [
    "!bq query --use_legacy_sql=false 'SELECT `loyal-symbol-251021.bike_trip_data.total_bikes`.station_id, `loyal-symbol-251021.bike_trip_data.start_station_evening`.start_station_name, round(sum(docks_available)/ sum(total_bikes), 3) as availability FROM `loyal-symbol-251021.bike_trip_data.total_bikes` INNER JOIN `bigquery-public-data.san_francisco.bikeshare_stations` ON `loyal-symbol-251021.bike_trip_data.total_bikes`.station_id = `bigquery-public-data.san_francisco.bikeshare_stations`.station_id INNER JOIN `loyal-symbol-251021.bike_trip_data.start_station_evening` ON `bigquery-public-data.san_francisco.bikeshare_stations`.name = `loyal-symbol-251021.bike_trip_data.start_station_evening`.start_station_name WHERE (extract(dayofweek from time) > 1 AND extract(dayofweek from time) < 7) AND (extract(hour from time) > 15 AND extract(hour from time) < 19) AND `loyal-symbol-251021.bike_trip_data.total_bikes`.station_id in (SELECT station_id FROM `bigquery-public-data.san_francisco.bikeshare_stations` WHERE `bigquery-public-data.san_francisco.bikeshare_stations`.name in (SELECT start_station_name FROM `loyal-symbol-251021.bike_trip_data.start_station_evening` ORDER BY count DESC LIMIT 10)) GROUP BY `loyal-symbol-251021.bike_trip_data.total_bikes`.station_id, `loyal-symbol-251021.bike_trip_data.start_station_evening`.start_station_name'"
   ]
  },
  {
   "cell_type": "markdown",
   "metadata": {},
   "source": [
    "<h4>According to the result, each station has enough availability in the evening. That is, my assumption was rejected."
   ]
  },
  {
   "cell_type": "markdown",
   "metadata": {},
   "source": [
    "<h4>Next, in order to see the broader view of popularity, I run the following SQLs to find the top 5 popular start and end station in the morning. "
   ]
  },
  {
   "cell_type": "code",
   "execution_count": 8,
   "metadata": {},
   "outputs": [
    {
     "name": "stdout",
     "output_type": "stream",
     "text": [
      "\r",
      "Waiting on bqjob_r5e6884e3339c487a_0000016d6532b0f3_1 ... (0s) Current status: DONE   "
     ]
    },
    {
     "data": {
      "text/html": [
       "<div>\n",
       "<style scoped>\n",
       "    .dataframe tbody tr th:only-of-type {\n",
       "        vertical-align: middle;\n",
       "    }\n",
       "\n",
       "    .dataframe tbody tr th {\n",
       "        vertical-align: top;\n",
       "    }\n",
       "\n",
       "    .dataframe thead th {\n",
       "        text-align: right;\n",
       "    }\n",
       "</style>\n",
       "<table border=\"1\" class=\"dataframe\">\n",
       "  <thead>\n",
       "    <tr style=\"text-align: right;\">\n",
       "      <th></th>\n",
       "      <th>start_station_name</th>\n",
       "      <th>count</th>\n",
       "    </tr>\n",
       "  </thead>\n",
       "  <tbody>\n",
       "    <tr>\n",
       "      <th>0</th>\n",
       "      <td>San Francisco Caltrain (Townsend at 4th)</td>\n",
       "      <td>38770</td>\n",
       "    </tr>\n",
       "    <tr>\n",
       "      <th>1</th>\n",
       "      <td>San Francisco Caltrain 2 (330 Townsend)</td>\n",
       "      <td>30345</td>\n",
       "    </tr>\n",
       "    <tr>\n",
       "      <th>2</th>\n",
       "      <td>Harry Bridges Plaza (Ferry Building)</td>\n",
       "      <td>19847</td>\n",
       "    </tr>\n",
       "    <tr>\n",
       "      <th>3</th>\n",
       "      <td>Temporary Transbay Terminal (Howard at Beale)</td>\n",
       "      <td>19033</td>\n",
       "    </tr>\n",
       "    <tr>\n",
       "      <th>4</th>\n",
       "      <td>Steuart at Market</td>\n",
       "      <td>14854</td>\n",
       "    </tr>\n",
       "  </tbody>\n",
       "</table>\n",
       "</div>"
      ],
      "text/plain": [
       "                              start_station_name  count\n",
       "0       San Francisco Caltrain (Townsend at 4th)  38770\n",
       "1        San Francisco Caltrain 2 (330 Townsend)  30345\n",
       "2           Harry Bridges Plaza (Ferry Building)  19847\n",
       "3  Temporary Transbay Terminal (Howard at Beale)  19033\n",
       "4                              Steuart at Market  14854"
      ]
     },
     "execution_count": 8,
     "metadata": {},
     "output_type": "execute_result"
    }
   ],
   "source": [
    "!bq query --use_legacy_sql=false --format=csv 'SELECT start_station_name, count(*) as count FROM `bigquery-public-data.san_francisco.bikeshare_trips` WHERE (extract(dayofweek from start_date) > 1 AND extract(dayofweek from start_date) < 7) AND (extract(hour from start_date) > 6 AND extract(hour from start_date) < 10) AND start_station_name != end_station_name GROUP BY start_station_name ORDER BY count DESC LIMIT 10' > top_10_start_morning.csv\n",
    "top_10_start_morning = pd.read_csv('top_10_start_morning.csv')\n",
    "top_10_start_morning.head(5)"
   ]
  },
  {
   "cell_type": "code",
   "execution_count": 9,
   "metadata": {},
   "outputs": [
    {
     "name": "stdout",
     "output_type": "stream",
     "text": [
      "\r",
      "Waiting on bqjob_r25741f3c8e6941f_0000016d6532bb7c_1 ... (0s) Current status: DONE   "
     ]
    },
    {
     "data": {
      "text/html": [
       "<div>\n",
       "<style scoped>\n",
       "    .dataframe tbody tr th:only-of-type {\n",
       "        vertical-align: middle;\n",
       "    }\n",
       "\n",
       "    .dataframe tbody tr th {\n",
       "        vertical-align: top;\n",
       "    }\n",
       "\n",
       "    .dataframe thead th {\n",
       "        text-align: right;\n",
       "    }\n",
       "</style>\n",
       "<table border=\"1\" class=\"dataframe\">\n",
       "  <thead>\n",
       "    <tr style=\"text-align: right;\">\n",
       "      <th></th>\n",
       "      <th>end_station_name</th>\n",
       "      <th>count</th>\n",
       "    </tr>\n",
       "  </thead>\n",
       "  <tbody>\n",
       "    <tr>\n",
       "      <th>0</th>\n",
       "      <td>San Francisco Caltrain (Townsend at 4th)</td>\n",
       "      <td>20360</td>\n",
       "    </tr>\n",
       "    <tr>\n",
       "      <th>1</th>\n",
       "      <td>2nd at Townsend</td>\n",
       "      <td>17197</td>\n",
       "    </tr>\n",
       "    <tr>\n",
       "      <th>2</th>\n",
       "      <td>Townsend at 7th</td>\n",
       "      <td>16805</td>\n",
       "    </tr>\n",
       "    <tr>\n",
       "      <th>3</th>\n",
       "      <td>Market at Sansome</td>\n",
       "      <td>13077</td>\n",
       "    </tr>\n",
       "    <tr>\n",
       "      <th>4</th>\n",
       "      <td>Embarcadero at Sansome</td>\n",
       "      <td>11505</td>\n",
       "    </tr>\n",
       "  </tbody>\n",
       "</table>\n",
       "</div>"
      ],
      "text/plain": [
       "                           end_station_name  count\n",
       "0  San Francisco Caltrain (Townsend at 4th)  20360\n",
       "1                           2nd at Townsend  17197\n",
       "2                           Townsend at 7th  16805\n",
       "3                         Market at Sansome  13077\n",
       "4                    Embarcadero at Sansome  11505"
      ]
     },
     "execution_count": 9,
     "metadata": {},
     "output_type": "execute_result"
    }
   ],
   "source": [
    "!bq query --use_legacy_sql=false --format=csv 'SELECT end_station_name, count(*) as count FROM `bigquery-public-data.san_francisco.bikeshare_trips` WHERE (extract(dayofweek from start_date) > 1 AND extract(dayofweek from start_date) < 7) AND (extract(hour from start_date) > 6 AND extract(hour from start_date) < 10) AND start_station_name != end_station_name GROUP BY end_station_name ORDER BY count DESC LIMIT 10' > top_10_end_morning.csv\n",
    "top_10_end_morning = pd.read_csv('top_10_end_morning.csv')\n",
    "top_10_end_morning.head(5)"
   ]
  },
  {
   "cell_type": "markdown",
   "metadata": {},
   "source": [
    "<h4>Next, I run the following SQLs to find the top 5 popular start and end station in the evening. "
   ]
  },
  {
   "cell_type": "code",
   "execution_count": 10,
   "metadata": {},
   "outputs": [
    {
     "name": "stdout",
     "output_type": "stream",
     "text": [
      "\r",
      "Waiting on bqjob_r76a40503066c21c9_0000016d6532ce86_1 ... (0s) Current status: DONE   "
     ]
    },
    {
     "data": {
      "text/html": [
       "<div>\n",
       "<style scoped>\n",
       "    .dataframe tbody tr th:only-of-type {\n",
       "        vertical-align: middle;\n",
       "    }\n",
       "\n",
       "    .dataframe tbody tr th {\n",
       "        vertical-align: top;\n",
       "    }\n",
       "\n",
       "    .dataframe thead th {\n",
       "        text-align: right;\n",
       "    }\n",
       "</style>\n",
       "<table border=\"1\" class=\"dataframe\">\n",
       "  <thead>\n",
       "    <tr style=\"text-align: right;\">\n",
       "      <th></th>\n",
       "      <th>start_station_name</th>\n",
       "      <th>count</th>\n",
       "    </tr>\n",
       "  </thead>\n",
       "  <tbody>\n",
       "    <tr>\n",
       "      <th>0</th>\n",
       "      <td>Townsend at 7th</td>\n",
       "      <td>13906</td>\n",
       "    </tr>\n",
       "    <tr>\n",
       "      <th>1</th>\n",
       "      <td>San Francisco Caltrain (Townsend at 4th)</td>\n",
       "      <td>13441</td>\n",
       "    </tr>\n",
       "    <tr>\n",
       "      <th>2</th>\n",
       "      <td>2nd at Townsend</td>\n",
       "      <td>13213</td>\n",
       "    </tr>\n",
       "    <tr>\n",
       "      <th>3</th>\n",
       "      <td>Embarcadero at Sansome</td>\n",
       "      <td>11841</td>\n",
       "    </tr>\n",
       "    <tr>\n",
       "      <th>4</th>\n",
       "      <td>Market at Sansome</td>\n",
       "      <td>10956</td>\n",
       "    </tr>\n",
       "  </tbody>\n",
       "</table>\n",
       "</div>"
      ],
      "text/plain": [
       "                         start_station_name  count\n",
       "0                           Townsend at 7th  13906\n",
       "1  San Francisco Caltrain (Townsend at 4th)  13441\n",
       "2                           2nd at Townsend  13213\n",
       "3                    Embarcadero at Sansome  11841\n",
       "4                         Market at Sansome  10956"
      ]
     },
     "execution_count": 10,
     "metadata": {},
     "output_type": "execute_result"
    }
   ],
   "source": [
    "!bq query --use_legacy_sql=false --format=csv 'SELECT start_station_name, count(*) as count FROM `bigquery-public-data.san_francisco.bikeshare_trips` WHERE (extract(dayofweek from start_date) > 1 AND extract(dayofweek from start_date) < 7) AND (extract(hour from start_date) > 15 AND extract(hour from start_date) < 19) AND start_station_name != end_station_name GROUP BY start_station_name ORDER BY count DESC LIMIT 10' > top_10_start_evening.csv\n",
    "top_10_start_evening = pd.read_csv('top_10_start_evening.csv')\n",
    "top_10_start_evening.head(5)"
   ]
  },
  {
   "cell_type": "code",
   "execution_count": 11,
   "metadata": {},
   "outputs": [
    {
     "name": "stdout",
     "output_type": "stream",
     "text": [
      "\r",
      "Waiting on bqjob_r1cddecff03e8fff8_0000016d6532d93d_1 ... (0s) Current status: DONE   "
     ]
    },
    {
     "data": {
      "text/html": [
       "<div>\n",
       "<style scoped>\n",
       "    .dataframe tbody tr th:only-of-type {\n",
       "        vertical-align: middle;\n",
       "    }\n",
       "\n",
       "    .dataframe tbody tr th {\n",
       "        vertical-align: top;\n",
       "    }\n",
       "\n",
       "    .dataframe thead th {\n",
       "        text-align: right;\n",
       "    }\n",
       "</style>\n",
       "<table border=\"1\" class=\"dataframe\">\n",
       "  <thead>\n",
       "    <tr style=\"text-align: right;\">\n",
       "      <th></th>\n",
       "      <th>end_station_name</th>\n",
       "      <th>count</th>\n",
       "    </tr>\n",
       "  </thead>\n",
       "  <tbody>\n",
       "    <tr>\n",
       "      <th>0</th>\n",
       "      <td>San Francisco Caltrain (Townsend at 4th)</td>\n",
       "      <td>44821</td>\n",
       "    </tr>\n",
       "    <tr>\n",
       "      <th>1</th>\n",
       "      <td>San Francisco Caltrain 2 (330 Townsend)</td>\n",
       "      <td>31126</td>\n",
       "    </tr>\n",
       "    <tr>\n",
       "      <th>2</th>\n",
       "      <td>Harry Bridges Plaza (Ferry Building)</td>\n",
       "      <td>17932</td>\n",
       "    </tr>\n",
       "    <tr>\n",
       "      <th>3</th>\n",
       "      <td>Steuart at Market</td>\n",
       "      <td>14960</td>\n",
       "    </tr>\n",
       "    <tr>\n",
       "      <th>4</th>\n",
       "      <td>Temporary Transbay Terminal (Howard at Beale)</td>\n",
       "      <td>14676</td>\n",
       "    </tr>\n",
       "  </tbody>\n",
       "</table>\n",
       "</div>"
      ],
      "text/plain": [
       "                                end_station_name  count\n",
       "0       San Francisco Caltrain (Townsend at 4th)  44821\n",
       "1        San Francisco Caltrain 2 (330 Townsend)  31126\n",
       "2           Harry Bridges Plaza (Ferry Building)  17932\n",
       "3                              Steuart at Market  14960\n",
       "4  Temporary Transbay Terminal (Howard at Beale)  14676"
      ]
     },
     "execution_count": 11,
     "metadata": {},
     "output_type": "execute_result"
    }
   ],
   "source": [
    "!bq query --use_legacy_sql=false --format=csv 'SELECT end_station_name, count(*) as count FROM `bigquery-public-data.san_francisco.bikeshare_trips` WHERE (extract(dayofweek from start_date) > 1 AND extract(dayofweek from start_date) < 7) AND (extract(hour from start_date) > 15 AND extract(hour from start_date) < 19) AND start_station_name != end_station_name GROUP BY end_station_name ORDER BY count DESC LIMIT 10' > top_10_end_evening.csv\n",
    "top_10_end_evening = pd.read_csv('top_10_end_evening.csv')\n",
    "top_10_end_evening.head(5)"
   ]
  },
  {
   "cell_type": "code",
   "execution_count": 12,
   "metadata": {},
   "outputs": [
    {
     "data": {
      "text/html": [
       "<div>\n",
       "<style scoped>\n",
       "    .dataframe tbody tr th:only-of-type {\n",
       "        vertical-align: middle;\n",
       "    }\n",
       "\n",
       "    .dataframe tbody tr th {\n",
       "        vertical-align: top;\n",
       "    }\n",
       "\n",
       "    .dataframe thead th {\n",
       "        text-align: right;\n",
       "    }\n",
       "</style>\n",
       "<table border=\"1\" class=\"dataframe\">\n",
       "  <thead>\n",
       "    <tr style=\"text-align: right;\">\n",
       "      <th></th>\n",
       "      <th>end_station_name</th>\n",
       "      <th>count_x</th>\n",
       "      <th>start_station_name</th>\n",
       "      <th>count_y</th>\n",
       "    </tr>\n",
       "  </thead>\n",
       "  <tbody>\n",
       "    <tr>\n",
       "      <th>0</th>\n",
       "      <td>San Francisco Caltrain (Townsend at 4th)</td>\n",
       "      <td>20360</td>\n",
       "      <td>San Francisco Caltrain (Townsend at 4th)</td>\n",
       "      <td>13441</td>\n",
       "    </tr>\n",
       "    <tr>\n",
       "      <th>1</th>\n",
       "      <td>2nd at Townsend</td>\n",
       "      <td>17197</td>\n",
       "      <td>2nd at Townsend</td>\n",
       "      <td>13213</td>\n",
       "    </tr>\n",
       "    <tr>\n",
       "      <th>2</th>\n",
       "      <td>Townsend at 7th</td>\n",
       "      <td>16805</td>\n",
       "      <td>Townsend at 7th</td>\n",
       "      <td>13906</td>\n",
       "    </tr>\n",
       "    <tr>\n",
       "      <th>3</th>\n",
       "      <td>Market at Sansome</td>\n",
       "      <td>13077</td>\n",
       "      <td>Market at Sansome</td>\n",
       "      <td>10956</td>\n",
       "    </tr>\n",
       "    <tr>\n",
       "      <th>4</th>\n",
       "      <td>Embarcadero at Sansome</td>\n",
       "      <td>11505</td>\n",
       "      <td>Embarcadero at Sansome</td>\n",
       "      <td>11841</td>\n",
       "    </tr>\n",
       "  </tbody>\n",
       "</table>\n",
       "</div>"
      ],
      "text/plain": [
       "                           end_station_name  count_x  \\\n",
       "0  San Francisco Caltrain (Townsend at 4th)    20360   \n",
       "1                           2nd at Townsend    17197   \n",
       "2                           Townsend at 7th    16805   \n",
       "3                         Market at Sansome    13077   \n",
       "4                    Embarcadero at Sansome    11505   \n",
       "\n",
       "                         start_station_name  count_y  \n",
       "0  San Francisco Caltrain (Townsend at 4th)    13441  \n",
       "1                           2nd at Townsend    13213  \n",
       "2                           Townsend at 7th    13906  \n",
       "3                         Market at Sansome    10956  \n",
       "4                    Embarcadero at Sansome    11841  "
      ]
     },
     "execution_count": 12,
     "metadata": {},
     "output_type": "execute_result"
    }
   ],
   "source": [
    "new_df = pd.merge(top_10_end_morning, top_10_start_evening, left_on='end_station_name', right_on='start_station_name', how='inner')\n",
    "new_df.head()"
   ]
  },
  {
   "cell_type": "code",
   "execution_count": 14,
   "metadata": {},
   "outputs": [
    {
     "data": {
      "image/png": "[encoded data removed]",
      "text/plain": [
       "<Figure size 432x288 with 1 Axes>"
      ]
     },
     "metadata": {
      "needs_background": "light"
     },
     "output_type": "display_data"
    }
   ],
   "source": [
    "y_1 = 'count_x'\n",
    "y_2 = 'count_y'\n",
    "x = 'end_station_name'\n",
    "\n",
    "ax = new_df.plot.bar(x=x, y=[y_1, y_2])\n",
    "ax.set_xlabel('station_name')\n",
    "ax.set_ylabel('total count')\n",
    "ax.legend('morning_end', 'evening_start')\n",
    "plt.xticks(rotation=90)\n",
    "plt.show()\n",
    "pass"
   ]
  },
  {
   "cell_type": "markdown",
   "metadata": {},
   "source": [
    "<h4>From the information above, end stations in the morning and start stations in the evening are relatively scattered. However, interestingly, bikeshare is used for a lot of commuters who go to south bay."
   ]
  },
  {
   "cell_type": "code",
   "execution_count": 15,
   "metadata": {},
   "outputs": [
    {
     "data": {
      "text/html": [
       "<div>\n",
       "<style scoped>\n",
       "    .dataframe tbody tr th:only-of-type {\n",
       "        vertical-align: middle;\n",
       "    }\n",
       "\n",
       "    .dataframe tbody tr th {\n",
       "        vertical-align: top;\n",
       "    }\n",
       "\n",
       "    .dataframe thead th {\n",
       "        text-align: right;\n",
       "    }\n",
       "</style>\n",
       "<table border=\"1\" class=\"dataframe\">\n",
       "  <thead>\n",
       "    <tr style=\"text-align: right;\">\n",
       "      <th></th>\n",
       "      <th>start_station_name</th>\n",
       "      <th>count_x</th>\n",
       "      <th>end_station_name</th>\n",
       "      <th>count_y</th>\n",
       "    </tr>\n",
       "  </thead>\n",
       "  <tbody>\n",
       "    <tr>\n",
       "      <th>0</th>\n",
       "      <td>San Francisco Caltrain (Townsend at 4th)</td>\n",
       "      <td>38770</td>\n",
       "      <td>San Francisco Caltrain (Townsend at 4th)</td>\n",
       "      <td>44821</td>\n",
       "    </tr>\n",
       "    <tr>\n",
       "      <th>1</th>\n",
       "      <td>San Francisco Caltrain 2 (330 Townsend)</td>\n",
       "      <td>30345</td>\n",
       "      <td>San Francisco Caltrain 2 (330 Townsend)</td>\n",
       "      <td>31126</td>\n",
       "    </tr>\n",
       "    <tr>\n",
       "      <th>2</th>\n",
       "      <td>Harry Bridges Plaza (Ferry Building)</td>\n",
       "      <td>19847</td>\n",
       "      <td>Harry Bridges Plaza (Ferry Building)</td>\n",
       "      <td>17932</td>\n",
       "    </tr>\n",
       "    <tr>\n",
       "      <th>3</th>\n",
       "      <td>Temporary Transbay Terminal (Howard at Beale)</td>\n",
       "      <td>19033</td>\n",
       "      <td>Temporary Transbay Terminal (Howard at Beale)</td>\n",
       "      <td>14676</td>\n",
       "    </tr>\n",
       "    <tr>\n",
       "      <th>4</th>\n",
       "      <td>Steuart at Market</td>\n",
       "      <td>14854</td>\n",
       "      <td>Steuart at Market</td>\n",
       "      <td>14960</td>\n",
       "    </tr>\n",
       "  </tbody>\n",
       "</table>\n",
       "</div>"
      ],
      "text/plain": [
       "                              start_station_name  count_x  \\\n",
       "0       San Francisco Caltrain (Townsend at 4th)    38770   \n",
       "1        San Francisco Caltrain 2 (330 Townsend)    30345   \n",
       "2           Harry Bridges Plaza (Ferry Building)    19847   \n",
       "3  Temporary Transbay Terminal (Howard at Beale)    19033   \n",
       "4                              Steuart at Market    14854   \n",
       "\n",
       "                                end_station_name  count_y  \n",
       "0       San Francisco Caltrain (Townsend at 4th)    44821  \n",
       "1        San Francisco Caltrain 2 (330 Townsend)    31126  \n",
       "2           Harry Bridges Plaza (Ferry Building)    17932  \n",
       "3  Temporary Transbay Terminal (Howard at Beale)    14676  \n",
       "4                              Steuart at Market    14960  "
      ]
     },
     "execution_count": 15,
     "metadata": {},
     "output_type": "execute_result"
    }
   ],
   "source": [
    "new_df_e = pd.merge(top_10_start_morning, top_10_end_evening, left_on='start_station_name', right_on='end_station_name', how='inner')\n",
    "new_df_e.head()"
   ]
  },
  {
   "cell_type": "code",
   "execution_count": 17,
   "metadata": {},
   "outputs": [
    {
     "data": {
      "image/png": "[encoded data removed]",
      "text/plain": [
       "<Figure size 432x288 with 1 Axes>"
      ]
     },
     "metadata": {
      "needs_background": "light"
     },
     "output_type": "display_data"
    }
   ],
   "source": [
    "y_1 = 'count_x'\n",
    "y_2 = 'count_y'\n",
    "x = 'start_station_name'\n",
    "\n",
    "ax = new_df_e.plot.bar(x=x, y=[y_1, y_2])\n",
    "ax.set_xlabel('station_name')\n",
    "ax.set_ylabel('total count')\n",
    "ax.legend('morning_start', 'evening_end')\n",
    "plt.xticks(rotation=90)\n",
    "plt.show()\n",
    "pass"
   ]
  },
  {
   "cell_type": "markdown",
   "metadata": {},
   "source": [
    "<h4>From the information above, Caltrain commuters are the big users for bikeshare. Also, Ferry users and bus users also use bikeshare."
   ]
  },
  {
   "cell_type": "markdown",
   "metadata": {},
   "source": [
    "<h4>In order to attract more public transportation commuters, including Caltrain, Ferry, Bus and BART, Ford Bike can offer combo package with other public transportation company."
   ]
  },
  {
   "cell_type": "markdown",
   "metadata": {},
   "source": [
    "<h4>From my experience, I assume that the price of bikeshre is expensive compared to public transportation. Therefore, first, I run the following SQL to analyze the duration of usage of bike share."
   ]
  },
  {
   "cell_type": "code",
   "execution_count": 18,
   "metadata": {},
   "outputs": [
    {
     "name": "stdout",
     "output_type": "stream",
     "text": [
      "\r",
      "Waiting on bqjob_r6a3556deea55cf8a_0000016d65334bf7_1 ... (0s) Current status: DONE   "
     ]
    },
    {
     "data": {
      "text/html": [
       "<div>\n",
       "<style scoped>\n",
       "    .dataframe tbody tr th:only-of-type {\n",
       "        vertical-align: middle;\n",
       "    }\n",
       "\n",
       "    .dataframe tbody tr th {\n",
       "        vertical-align: top;\n",
       "    }\n",
       "\n",
       "    .dataframe thead th {\n",
       "        text-align: right;\n",
       "    }\n",
       "</style>\n",
       "<table border=\"1\" class=\"dataframe\">\n",
       "  <thead>\n",
       "    <tr style=\"text-align: right;\">\n",
       "      <th></th>\n",
       "      <th>duration</th>\n",
       "      <th>count</th>\n",
       "    </tr>\n",
       "  </thead>\n",
       "  <tbody>\n",
       "    <tr>\n",
       "      <th>0</th>\n",
       "      <td>3.0</td>\n",
       "      <td>14673</td>\n",
       "    </tr>\n",
       "    <tr>\n",
       "      <th>1</th>\n",
       "      <td>4.0</td>\n",
       "      <td>43393</td>\n",
       "    </tr>\n",
       "    <tr>\n",
       "      <th>2</th>\n",
       "      <td>5.0</td>\n",
       "      <td>47854</td>\n",
       "    </tr>\n",
       "    <tr>\n",
       "      <th>3</th>\n",
       "      <td>6.0</td>\n",
       "      <td>52767</td>\n",
       "    </tr>\n",
       "    <tr>\n",
       "      <th>4</th>\n",
       "      <td>7.0</td>\n",
       "      <td>53596</td>\n",
       "    </tr>\n",
       "    <tr>\n",
       "      <th>5</th>\n",
       "      <td>8.0</td>\n",
       "      <td>53737</td>\n",
       "    </tr>\n",
       "    <tr>\n",
       "      <th>6</th>\n",
       "      <td>9.0</td>\n",
       "      <td>49934</td>\n",
       "    </tr>\n",
       "    <tr>\n",
       "      <th>7</th>\n",
       "      <td>10.0</td>\n",
       "      <td>44259</td>\n",
       "    </tr>\n",
       "    <tr>\n",
       "      <th>8</th>\n",
       "      <td>11.0</td>\n",
       "      <td>38096</td>\n",
       "    </tr>\n",
       "    <tr>\n",
       "      <th>9</th>\n",
       "      <td>12.0</td>\n",
       "      <td>31615</td>\n",
       "    </tr>\n",
       "  </tbody>\n",
       "</table>\n",
       "</div>"
      ],
      "text/plain": [
       "   duration  count\n",
       "0       3.0  14673\n",
       "1       4.0  43393\n",
       "2       5.0  47854\n",
       "3       6.0  52767\n",
       "4       7.0  53596\n",
       "5       8.0  53737\n",
       "6       9.0  49934\n",
       "7      10.0  44259\n",
       "8      11.0  38096\n",
       "9      12.0  31615"
      ]
     },
     "execution_count": 18,
     "metadata": {},
     "output_type": "execute_result"
    }
   ],
   "source": [
    "!bq query --use_legacy_sql=false --format='csv' 'SELECT ROUND(duration_sec/60, 0) as duration, count(*) as count FROM `bigquery-public-data.san_francisco.bikeshare_trips` WHERE (extract(dayofweek from start_date) > 1 AND extract(dayofweek from start_date) < 7) AND( (extract(hour from start_date) > 6 AND extract(hour from start_date) < 10) OR (extract(hour from start_date) > 15 AND extract(hour from start_date) < 19)) AND duration_sec < 60*60*24 AND duration_sec > 60*3 AND start_station_name != end_station_name GROUP BY duration ORDER BY duration' > duration.csv\n",
    "duration = pd.read_csv('duration.csv')\n",
    "duration.head(10)"
   ]
  },
  {
   "cell_type": "code",
   "execution_count": 19,
   "metadata": {},
   "outputs": [
    {
     "data": {
      "image/png": "[encoded data removed]",
      "text/plain": [
       "<Figure size 432x288 with 1 Axes>"
      ]
     },
     "metadata": {
      "needs_background": "light"
     },
     "output_type": "display_data"
    }
   ],
   "source": [
    "x=duration['duration']\n",
    "y=duration['count']\n",
    "fig, ax = plt.subplots()\n",
    "ax.bar(x, y, label='count', color='blue')\n",
    "ax.set_xlabel('min')\n",
    "ax.set_xlim(0,40)\n",
    "ax.set_ylabel('total count')\n",
    "ax.legend(loc='upper right')\n",
    "pass"
   ]
  },
  {
   "cell_type": "code",
   "execution_count": 20,
   "metadata": {},
   "outputs": [
    {
     "name": "stdout",
     "output_type": "stream",
     "text": [
      "Waiting on bqjob_r3893fa9d2138aabb_0000016d65338fda_1 ... (0s) Current status: DONE   \n",
      "+-----+----------+\n",
      "| day | duration |\n",
      "+-----+----------+\n",
      "|   2 |     11.0 |\n",
      "|   3 |     11.0 |\n",
      "|   4 |     11.0 |\n",
      "|   5 |     10.0 |\n",
      "|   6 |     11.0 |\n",
      "+-----+----------+\n"
     ]
    }
   ],
   "source": [
    "!bq query --use_legacy_sql=false 'SELECT extract(dayofweek from start_date) as day, ROUND(AVG(duration_sec)/60, 0) as duration FROM `bigquery-public-data.san_francisco.bikeshare_trips` WHERE (extract(dayofweek from start_date) > 1 AND extract(dayofweek from start_date) < 7) AND( (extract(hour from start_date) > 6 AND extract(hour from start_date) < 10) OR (extract(hour from start_date) > 15 AND extract(hour from start_date) < 19)) AND duration_sec < 60*60*24 AND duration_sec > 60*3 AND start_station_name != end_station_name GROUP BY day ORDER BY day'"
   ]
  },
  {
   "cell_type": "code",
   "execution_count": 21,
   "metadata": {},
   "outputs": [
    {
     "name": "stdout",
     "output_type": "stream",
     "text": [
      "Waiting on bqjob_r7e382c2bb67e05d9_0000016d65339933_1 ... (0s) Current status: DONE   \n",
      "+-----------------+--------+\n",
      "| subscriber_type | count  |\n",
      "+-----------------+--------+\n",
      "| Subscriber      | 526819 |\n",
      "| Customer        |  27312 |\n",
      "+-----------------+--------+\n"
     ]
    }
   ],
   "source": [
    "!bq query --use_legacy_sql=false 'SELECT subscriber_type, COUNT(*) as count FROM `bigquery-public-data.san_francisco.bikeshare_trips` WHERE (extract(dayofweek from start_date) > 1 AND extract(dayofweek from start_date) < 7) AND( (extract(hour from start_date) > 6 AND extract(hour from start_date) < 10) OR (extract(hour from start_date) > 15 AND extract(hour from start_date) < 19)) AND start_station_name != end_station_name GROUP BY subscriber_type'"
   ]
  },
  {
   "cell_type": "markdown",
   "metadata": {},
   "source": [
    "The SQL below checks if there are null values."
   ]
  },
  {
   "cell_type": "code",
   "execution_count": 22,
   "metadata": {},
   "outputs": [
    {
     "name": "stdout",
     "output_type": "stream",
     "text": [
      "Waiting on bqjob_r6b307a91086730aa_0000016d6533b8de_1 ... (0s) Current status: DONE   \n",
      "+-------+\n",
      "| count |\n",
      "+-------+\n",
      "|     0 |\n",
      "+-------+\n"
     ]
    }
   ],
   "source": [
    "!bq query --use_legacy_sql=false 'SELECT COUNT(*) as count FROM `bigquery-public-data.san_francisco.bikeshare_trips` WHERE (extract(dayofweek from start_date) > 1 AND extract(dayofweek from start_date) < 7) AND( (extract(hour from start_date) > 6 AND extract(hour from start_date) < 10) OR (extract(hour from start_date) > 15 AND extract(hour from start_date) < 19)) AND start_station_name != end_station_name AND subscriber_type IS NULL'"
   ]
  },
  {
   "cell_type": "markdown",
   "metadata": {},
   "source": [
    "<h4>There are total 554131 commuter rides. Among them, 526819 rides are by subscribers. This is 95% of the total rides. Ford Bike can do to increase the number of 24-hour or 3-day members."
   ]
  },
  {
   "cell_type": "markdown",
   "metadata": {},
   "source": [
    "<h4>Many people use bike share less than 15 minutes. According to the article on Aug 23, 2017, \n",
    "    \n",
    "    \n",
    "    ***A one-day pass, which allows a rider unlimited 30-minute trips in 24 hours, costs $9.95. The $124 annual membership, good for any number of 45-minute trips, will increase in price to $149 after Aug. 31.***\n",
    "    \n",
    "<h4>Assuming from the popular commute routes, the main competitor is Muni. Annual membership is a good option to users. However, a one-day pass is expensive for non-subscribers. In 2016, the price of Muni was $2.25. In order to acquiring more customers who usually use Muni, Ford Bike can offer a one-day commuting plan, which will close to the price of Muni. Although the price is lower, Ford Bike can limit the usage to twice (in the morning and in the evening)."
   ]
  },
  {
   "cell_type": "markdown",
   "metadata": {},
   "source": [
    "<h3>Conclusion"
   ]
  },
  {
   "cell_type": "markdown",
   "metadata": {},
   "source": [
    "<h4>Q1.  What are the 5 most popular trips that I would call \"commuter trips\"?\n",
    "    \n",
    "    \n",
    "A1-a. The top 5 most popular \"commute\" routes in the morning are:\n",
    "\n",
    "1. Harry Bridges Plaza (Ferry Building) to 2nd at Townsend\n",
    "2. Steuart at Market to 2nd at Townsend\n",
    "3. San Francisco Caltrain 2 (330 Townsend) to Townsend at 7th\n",
    "4. San Francisco Caltrain (Townsend at 4th) to Embarcadero at Folsom\n",
    "5. San Francisco Caltrain (Townsend at 4th) to Temporary Transbay Terminal (Howard at Beale)"
   ]
  },
  {
   "cell_type": "markdown",
   "metadata": {},
   "source": [
    "<h4>A1-b. The top 5 most popular \"commute\" routes in the evening are:\n",
    "\n",
    "1. 2nd at Townsend to Harry Bridges Plaza (Ferry Building)\n",
    "2. Embarcadero at Folsom to San Francisco Caltrain (Townsend at 4th)\n",
    "3. Embarcadero at Sansome to Steuart at Market\n",
    "4. Steuart at Market to San Francisco Caltrain (Townsend at 4th)\n",
    "5. Temporary Transbay Terminal (Howard at Beale) to San Francisco Caltrain (Townsend at 4th)"
   ]
  },
  {
   "cell_type": "markdown",
   "metadata": {},
   "source": [
    "<h4>Q2. What are my recommendations for offers ?"
   ]
  },
  {
   "cell_type": "markdown",
   "metadata": {},
   "source": [
    "<h4>A2. There are two recommendations for offers.\n",
    "    \n",
    "    First, in order to attract more public transportation commuters, including Caltrain, Ferry, Bus and BART, Ford Bike can offer combo package with other public transportation company.\n",
    "    \n",
    "    Second, in order to acquiring more customers who usually use Muni, Ford Bike can offer a one-day commuting plan, which will close to the price of Muni. Although the price is lower, Ford Bike can limit the usage to twice (less than 15 minutes at once in the morning and in the evening)."
   ]
  },
  {
   "cell_type": "markdown",
   "metadata": {},
   "source": [
    "<h3>Appendix"
   ]
  },
  {
   "cell_type": "markdown",
   "metadata": {},
   "source": [
    "Although I didn't use the following information in my analysis above, I drew heat map so that I can understand the overall image of the places where dock stations are and which stations are popular."
   ]
  },
  {
   "cell_type": "code",
   "execution_count": 23,
   "metadata": {},
   "outputs": [],
   "source": [
    "from folium import plugins\n",
    "from folium.plugins import HeatMap"
   ]
  },
  {
   "cell_type": "code",
   "execution_count": 24,
   "metadata": {},
   "outputs": [
    {
     "name": "stdout",
     "output_type": "stream",
     "text": [
      "\r",
      "Waiting on bqjob_r539c0d27b55d0151_0000016d6533f9f9_1 ... (0s) Current status: DONE   "
     ]
    }
   ],
   "source": [
    "!bq query --use_legacy_sql=false --format=csv 'SELECT `bigquery-public-data.san_francisco.bikeshare_trips`.start_station_name, `bigquery-public-data.san_francisco.bikeshare_stations`.latitude, `bigquery-public-data.san_francisco.bikeshare_stations`.longitude, count(*) as count FROM `bigquery-public-data.san_francisco.bikeshare_trips` INNER JOIN `bigquery-public-data.san_francisco.bikeshare_stations`ON `bigquery-public-data.san_francisco.bikeshare_trips`.start_station_name = `bigquery-public-data.san_francisco.bikeshare_stations`.name WHERE (extract(dayofweek from start_date) > 1 AND extract(dayofweek from start_date) < 7) AND (extract(hour from start_date) > 6 AND extract(hour from start_date) < 10) AND start_station_name != end_station_name GROUP BY `bigquery-public-data.san_francisco.bikeshare_trips`.start_station_name, `bigquery-public-data.san_francisco.bikeshare_stations`.latitude, `bigquery-public-data.san_francisco.bikeshare_stations`.longitude ORDER BY count DESC ' > start_station_morning.csv"
   ]
  },
  {
   "cell_type": "code",
   "execution_count": 25,
   "metadata": {},
   "outputs": [
    {
     "data": {
      "text/html": [
       "<div>\n",
       "<style scoped>\n",
       "    .dataframe tbody tr th:only-of-type {\n",
       "        vertical-align: middle;\n",
       "    }\n",
       "\n",
       "    .dataframe tbody tr th {\n",
       "        vertical-align: top;\n",
       "    }\n",
       "\n",
       "    .dataframe thead th {\n",
       "        text-align: right;\n",
       "    }\n",
       "</style>\n",
       "<table border=\"1\" class=\"dataframe\">\n",
       "  <thead>\n",
       "    <tr style=\"text-align: right;\">\n",
       "      <th></th>\n",
       "      <th>start_station_name</th>\n",
       "      <th>latitude</th>\n",
       "      <th>longitude</th>\n",
       "      <th>count</th>\n",
       "    </tr>\n",
       "  </thead>\n",
       "  <tbody>\n",
       "    <tr>\n",
       "      <th>0</th>\n",
       "      <td>San Francisco Caltrain (Townsend at 4th)</td>\n",
       "      <td>37.776617</td>\n",
       "      <td>-122.395260</td>\n",
       "      <td>38770</td>\n",
       "    </tr>\n",
       "    <tr>\n",
       "      <th>1</th>\n",
       "      <td>San Francisco Caltrain 2 (330 Townsend)</td>\n",
       "      <td>37.776600</td>\n",
       "      <td>-122.395470</td>\n",
       "      <td>30345</td>\n",
       "    </tr>\n",
       "    <tr>\n",
       "      <th>2</th>\n",
       "      <td>Harry Bridges Plaza (Ferry Building)</td>\n",
       "      <td>37.795392</td>\n",
       "      <td>-122.394203</td>\n",
       "      <td>19847</td>\n",
       "    </tr>\n",
       "    <tr>\n",
       "      <th>3</th>\n",
       "      <td>Temporary Transbay Terminal (Howard at Beale)</td>\n",
       "      <td>37.789756</td>\n",
       "      <td>-122.394643</td>\n",
       "      <td>19033</td>\n",
       "    </tr>\n",
       "    <tr>\n",
       "      <th>4</th>\n",
       "      <td>Steuart at Market</td>\n",
       "      <td>37.794139</td>\n",
       "      <td>-122.394434</td>\n",
       "      <td>14854</td>\n",
       "    </tr>\n",
       "  </tbody>\n",
       "</table>\n",
       "</div>"
      ],
      "text/plain": [
       "                              start_station_name   latitude   longitude  count\n",
       "0       San Francisco Caltrain (Townsend at 4th)  37.776617 -122.395260  38770\n",
       "1        San Francisco Caltrain 2 (330 Townsend)  37.776600 -122.395470  30345\n",
       "2           Harry Bridges Plaza (Ferry Building)  37.795392 -122.394203  19847\n",
       "3  Temporary Transbay Terminal (Howard at Beale)  37.789756 -122.394643  19033\n",
       "4                              Steuart at Market  37.794139 -122.394434  14854"
      ]
     },
     "execution_count": 25,
     "metadata": {},
     "output_type": "execute_result"
    }
   ],
   "source": [
    "start_station_morning = pd.read_csv('start_station_morning.csv')\n",
    "start_station_morning.head()"
   ]
  },
  {
   "cell_type": "code",
   "execution_count": 26,
   "metadata": {},
   "outputs": [
    {
     "data": {
      "text/html": [
       "<div>\n",
       "<style scoped>\n",
       "    .dataframe tbody tr th:only-of-type {\n",
       "        vertical-align: middle;\n",
       "    }\n",
       "\n",
       "    .dataframe tbody tr th {\n",
       "        vertical-align: top;\n",
       "    }\n",
       "\n",
       "    .dataframe thead th {\n",
       "        text-align: right;\n",
       "    }\n",
       "</style>\n",
       "<table border=\"1\" class=\"dataframe\">\n",
       "  <thead>\n",
       "    <tr style=\"text-align: right;\">\n",
       "      <th></th>\n",
       "      <th>latitude</th>\n",
       "      <th>longitude</th>\n",
       "      <th>count</th>\n",
       "    </tr>\n",
       "  </thead>\n",
       "  <tbody>\n",
       "    <tr>\n",
       "      <th>0</th>\n",
       "      <td>37.776617</td>\n",
       "      <td>-122.395260</td>\n",
       "      <td>38770</td>\n",
       "    </tr>\n",
       "    <tr>\n",
       "      <th>1</th>\n",
       "      <td>37.776600</td>\n",
       "      <td>-122.395470</td>\n",
       "      <td>30345</td>\n",
       "    </tr>\n",
       "    <tr>\n",
       "      <th>2</th>\n",
       "      <td>37.795392</td>\n",
       "      <td>-122.394203</td>\n",
       "      <td>19847</td>\n",
       "    </tr>\n",
       "    <tr>\n",
       "      <th>3</th>\n",
       "      <td>37.789756</td>\n",
       "      <td>-122.394643</td>\n",
       "      <td>19033</td>\n",
       "    </tr>\n",
       "    <tr>\n",
       "      <th>4</th>\n",
       "      <td>37.794139</td>\n",
       "      <td>-122.394434</td>\n",
       "      <td>14854</td>\n",
       "    </tr>\n",
       "    <tr>\n",
       "      <th>5</th>\n",
       "      <td>37.780526</td>\n",
       "      <td>-122.390288</td>\n",
       "      <td>10660</td>\n",
       "    </tr>\n",
       "    <tr>\n",
       "      <th>6</th>\n",
       "      <td>37.797900</td>\n",
       "      <td>-122.405942</td>\n",
       "      <td>10115</td>\n",
       "    </tr>\n",
       "    <tr>\n",
       "      <th>7</th>\n",
       "      <td>37.789625</td>\n",
       "      <td>-122.400811</td>\n",
       "      <td>7793</td>\n",
       "    </tr>\n",
       "    <tr>\n",
       "      <th>8</th>\n",
       "      <td>37.776619</td>\n",
       "      <td>-122.417385</td>\n",
       "      <td>7640</td>\n",
       "    </tr>\n",
       "    <tr>\n",
       "      <th>9</th>\n",
       "      <td>37.787152</td>\n",
       "      <td>-122.388013</td>\n",
       "      <td>7423</td>\n",
       "    </tr>\n",
       "    <tr>\n",
       "      <th>10</th>\n",
       "      <td>37.781039</td>\n",
       "      <td>-122.411748</td>\n",
       "      <td>7402</td>\n",
       "    </tr>\n",
       "    <tr>\n",
       "      <th>11</th>\n",
       "      <td>37.792251</td>\n",
       "      <td>-122.397086</td>\n",
       "      <td>7079</td>\n",
       "    </tr>\n",
       "    <tr>\n",
       "      <th>12</th>\n",
       "      <td>37.771058</td>\n",
       "      <td>-122.402717</td>\n",
       "      <td>6258</td>\n",
       "    </tr>\n",
       "    <tr>\n",
       "      <th>13</th>\n",
       "      <td>37.804770</td>\n",
       "      <td>-122.403234</td>\n",
       "      <td>6209</td>\n",
       "    </tr>\n",
       "    <tr>\n",
       "      <th>14</th>\n",
       "      <td>37.329732</td>\n",
       "      <td>-121.901782</td>\n",
       "      <td>5677</td>\n",
       "    </tr>\n",
       "    <tr>\n",
       "      <th>15</th>\n",
       "      <td>37.774814</td>\n",
       "      <td>-122.418954</td>\n",
       "      <td>5659</td>\n",
       "    </tr>\n",
       "    <tr>\n",
       "      <th>16</th>\n",
       "      <td>37.783871</td>\n",
       "      <td>-122.408433</td>\n",
       "      <td>5607</td>\n",
       "    </tr>\n",
       "    <tr>\n",
       "      <th>17</th>\n",
       "      <td>37.788446</td>\n",
       "      <td>-122.408499</td>\n",
       "      <td>4941</td>\n",
       "    </tr>\n",
       "    <tr>\n",
       "      <th>18</th>\n",
       "      <td>37.782259</td>\n",
       "      <td>-122.392738</td>\n",
       "      <td>4593</td>\n",
       "    </tr>\n",
       "    <tr>\n",
       "      <th>19</th>\n",
       "      <td>37.394358</td>\n",
       "      <td>-122.076713</td>\n",
       "      <td>4505</td>\n",
       "    </tr>\n",
       "    <tr>\n",
       "      <th>20</th>\n",
       "      <td>37.785299</td>\n",
       "      <td>-122.396236</td>\n",
       "      <td>4470</td>\n",
       "    </tr>\n",
       "    <tr>\n",
       "      <th>21</th>\n",
       "      <td>37.781332</td>\n",
       "      <td>-122.418603</td>\n",
       "      <td>4060</td>\n",
       "    </tr>\n",
       "    <tr>\n",
       "      <th>22</th>\n",
       "      <td>37.790302</td>\n",
       "      <td>-122.390637</td>\n",
       "      <td>3909</td>\n",
       "    </tr>\n",
       "    <tr>\n",
       "      <th>23</th>\n",
       "      <td>37.781752</td>\n",
       "      <td>-122.405127</td>\n",
       "      <td>3724</td>\n",
       "    </tr>\n",
       "    <tr>\n",
       "      <th>24</th>\n",
       "      <td>37.786305</td>\n",
       "      <td>-122.404966</td>\n",
       "      <td>3617</td>\n",
       "    </tr>\n",
       "    <tr>\n",
       "      <th>25</th>\n",
       "      <td>37.791464</td>\n",
       "      <td>-122.391034</td>\n",
       "      <td>3477</td>\n",
       "    </tr>\n",
       "    <tr>\n",
       "      <th>26</th>\n",
       "      <td>37.786978</td>\n",
       "      <td>-122.398108</td>\n",
       "      <td>3287</td>\n",
       "    </tr>\n",
       "    <tr>\n",
       "      <th>27</th>\n",
       "      <td>37.791300</td>\n",
       "      <td>-122.399051</td>\n",
       "      <td>2669</td>\n",
       "    </tr>\n",
       "    <tr>\n",
       "      <th>28</th>\n",
       "      <td>37.797280</td>\n",
       "      <td>-122.398436</td>\n",
       "      <td>2596</td>\n",
       "    </tr>\n",
       "    <tr>\n",
       "      <th>29</th>\n",
       "      <td>37.798541</td>\n",
       "      <td>-122.400862</td>\n",
       "      <td>2523</td>\n",
       "    </tr>\n",
       "    <tr>\n",
       "      <th>...</th>\n",
       "      <td>...</td>\n",
       "      <td>...</td>\n",
       "      <td>...</td>\n",
       "    </tr>\n",
       "    <tr>\n",
       "      <th>42</th>\n",
       "      <td>37.389218</td>\n",
       "      <td>-122.081896</td>\n",
       "      <td>633</td>\n",
       "    </tr>\n",
       "    <tr>\n",
       "      <th>43</th>\n",
       "      <td>37.799953</td>\n",
       "      <td>-122.398525</td>\n",
       "      <td>603</td>\n",
       "    </tr>\n",
       "    <tr>\n",
       "      <th>44</th>\n",
       "      <td>37.448598</td>\n",
       "      <td>-122.159504</td>\n",
       "      <td>500</td>\n",
       "    </tr>\n",
       "    <tr>\n",
       "      <th>45</th>\n",
       "      <td>37.335885</td>\n",
       "      <td>-121.885660</td>\n",
       "      <td>493</td>\n",
       "    </tr>\n",
       "    <tr>\n",
       "      <th>46</th>\n",
       "      <td>37.385956</td>\n",
       "      <td>-122.083678</td>\n",
       "      <td>423</td>\n",
       "    </tr>\n",
       "    <tr>\n",
       "      <th>47</th>\n",
       "      <td>37.330165</td>\n",
       "      <td>-121.885831</td>\n",
       "      <td>392</td>\n",
       "    </tr>\n",
       "    <tr>\n",
       "      <th>48</th>\n",
       "      <td>37.400443</td>\n",
       "      <td>-122.108338</td>\n",
       "      <td>387</td>\n",
       "    </tr>\n",
       "    <tr>\n",
       "      <th>49</th>\n",
       "      <td>37.339301</td>\n",
       "      <td>-121.889937</td>\n",
       "      <td>316</td>\n",
       "    </tr>\n",
       "    <tr>\n",
       "      <th>50</th>\n",
       "      <td>37.795425</td>\n",
       "      <td>-122.404767</td>\n",
       "      <td>278</td>\n",
       "    </tr>\n",
       "    <tr>\n",
       "      <th>51</th>\n",
       "      <td>37.336721</td>\n",
       "      <td>-121.894074</td>\n",
       "      <td>265</td>\n",
       "    </tr>\n",
       "    <tr>\n",
       "      <th>52</th>\n",
       "      <td>37.788975</td>\n",
       "      <td>-122.403452</td>\n",
       "      <td>232</td>\n",
       "    </tr>\n",
       "    <tr>\n",
       "      <th>53</th>\n",
       "      <td>37.330698</td>\n",
       "      <td>-121.888979</td>\n",
       "      <td>209</td>\n",
       "    </tr>\n",
       "    <tr>\n",
       "      <th>54</th>\n",
       "      <td>37.491269</td>\n",
       "      <td>-122.236234</td>\n",
       "      <td>178</td>\n",
       "    </tr>\n",
       "    <tr>\n",
       "      <th>55</th>\n",
       "      <td>37.337391</td>\n",
       "      <td>-121.886995</td>\n",
       "      <td>130</td>\n",
       "    </tr>\n",
       "    <tr>\n",
       "      <th>56</th>\n",
       "      <td>37.332808</td>\n",
       "      <td>-121.883891</td>\n",
       "      <td>116</td>\n",
       "    </tr>\n",
       "    <tr>\n",
       "      <th>57</th>\n",
       "      <td>37.444521</td>\n",
       "      <td>-122.163093</td>\n",
       "      <td>102</td>\n",
       "    </tr>\n",
       "    <tr>\n",
       "      <th>58</th>\n",
       "      <td>37.331415</td>\n",
       "      <td>-121.893200</td>\n",
       "      <td>69</td>\n",
       "    </tr>\n",
       "    <tr>\n",
       "      <th>59</th>\n",
       "      <td>37.429082</td>\n",
       "      <td>-122.142805</td>\n",
       "      <td>66</td>\n",
       "    </tr>\n",
       "    <tr>\n",
       "      <th>60</th>\n",
       "      <td>37.332692</td>\n",
       "      <td>-121.900084</td>\n",
       "      <td>65</td>\n",
       "    </tr>\n",
       "    <tr>\n",
       "      <th>61</th>\n",
       "      <td>37.425684</td>\n",
       "      <td>-122.137777</td>\n",
       "      <td>65</td>\n",
       "    </tr>\n",
       "    <tr>\n",
       "      <th>62</th>\n",
       "      <td>37.481758</td>\n",
       "      <td>-122.226904</td>\n",
       "      <td>51</td>\n",
       "    </tr>\n",
       "    <tr>\n",
       "      <th>63</th>\n",
       "      <td>37.485370</td>\n",
       "      <td>-122.203288</td>\n",
       "      <td>50</td>\n",
       "    </tr>\n",
       "    <tr>\n",
       "      <th>64</th>\n",
       "      <td>37.780148</td>\n",
       "      <td>-122.403158</td>\n",
       "      <td>40</td>\n",
       "    </tr>\n",
       "    <tr>\n",
       "      <th>65</th>\n",
       "      <td>37.487616</td>\n",
       "      <td>-122.229951</td>\n",
       "      <td>28</td>\n",
       "    </tr>\n",
       "    <tr>\n",
       "      <th>66</th>\n",
       "      <td>37.420909</td>\n",
       "      <td>-122.080623</td>\n",
       "      <td>27</td>\n",
       "    </tr>\n",
       "    <tr>\n",
       "      <th>67</th>\n",
       "      <td>37.484219</td>\n",
       "      <td>-122.227424</td>\n",
       "      <td>21</td>\n",
       "    </tr>\n",
       "    <tr>\n",
       "      <th>68</th>\n",
       "      <td>37.487682</td>\n",
       "      <td>-122.223492</td>\n",
       "      <td>21</td>\n",
       "    </tr>\n",
       "    <tr>\n",
       "      <th>69</th>\n",
       "      <td>37.352601</td>\n",
       "      <td>-121.905733</td>\n",
       "      <td>16</td>\n",
       "    </tr>\n",
       "    <tr>\n",
       "      <th>70</th>\n",
       "      <td>37.785908</td>\n",
       "      <td>-122.408891</td>\n",
       "      <td>11</td>\n",
       "    </tr>\n",
       "    <tr>\n",
       "      <th>71</th>\n",
       "      <td>37.395337</td>\n",
       "      <td>-122.052476</td>\n",
       "      <td>4</td>\n",
       "    </tr>\n",
       "  </tbody>\n",
       "</table>\n",
       "<p>72 rows × 3 columns</p>\n",
       "</div>"
      ],
      "text/plain": [
       "     latitude   longitude  count\n",
       "0   37.776617 -122.395260  38770\n",
       "1   37.776600 -122.395470  30345\n",
       "2   37.795392 -122.394203  19847\n",
       "3   37.789756 -122.394643  19033\n",
       "4   37.794139 -122.394434  14854\n",
       "5   37.780526 -122.390288  10660\n",
       "6   37.797900 -122.405942  10115\n",
       "7   37.789625 -122.400811   7793\n",
       "8   37.776619 -122.417385   7640\n",
       "9   37.787152 -122.388013   7423\n",
       "10  37.781039 -122.411748   7402\n",
       "11  37.792251 -122.397086   7079\n",
       "12  37.771058 -122.402717   6258\n",
       "13  37.804770 -122.403234   6209\n",
       "14  37.329732 -121.901782   5677\n",
       "15  37.774814 -122.418954   5659\n",
       "16  37.783871 -122.408433   5607\n",
       "17  37.788446 -122.408499   4941\n",
       "18  37.782259 -122.392738   4593\n",
       "19  37.394358 -122.076713   4505\n",
       "20  37.785299 -122.396236   4470\n",
       "21  37.781332 -122.418603   4060\n",
       "22  37.790302 -122.390637   3909\n",
       "23  37.781752 -122.405127   3724\n",
       "24  37.786305 -122.404966   3617\n",
       "25  37.791464 -122.391034   3477\n",
       "26  37.786978 -122.398108   3287\n",
       "27  37.791300 -122.399051   2669\n",
       "28  37.797280 -122.398436   2596\n",
       "29  37.798541 -122.400862   2523\n",
       "..        ...         ...    ...\n",
       "42  37.389218 -122.081896    633\n",
       "43  37.799953 -122.398525    603\n",
       "44  37.448598 -122.159504    500\n",
       "45  37.335885 -121.885660    493\n",
       "46  37.385956 -122.083678    423\n",
       "47  37.330165 -121.885831    392\n",
       "48  37.400443 -122.108338    387\n",
       "49  37.339301 -121.889937    316\n",
       "50  37.795425 -122.404767    278\n",
       "51  37.336721 -121.894074    265\n",
       "52  37.788975 -122.403452    232\n",
       "53  37.330698 -121.888979    209\n",
       "54  37.491269 -122.236234    178\n",
       "55  37.337391 -121.886995    130\n",
       "56  37.332808 -121.883891    116\n",
       "57  37.444521 -122.163093    102\n",
       "58  37.331415 -121.893200     69\n",
       "59  37.429082 -122.142805     66\n",
       "60  37.332692 -121.900084     65\n",
       "61  37.425684 -122.137777     65\n",
       "62  37.481758 -122.226904     51\n",
       "63  37.485370 -122.203288     50\n",
       "64  37.780148 -122.403158     40\n",
       "65  37.487616 -122.229951     28\n",
       "66  37.420909 -122.080623     27\n",
       "67  37.484219 -122.227424     21\n",
       "68  37.487682 -122.223492     21\n",
       "69  37.352601 -121.905733     16\n",
       "70  37.785908 -122.408891     11\n",
       "71  37.395337 -122.052476      4\n",
       "\n",
       "[72 rows x 3 columns]"
      ]
     },
     "execution_count": 26,
     "metadata": {},
     "output_type": "execute_result"
    }
   ],
   "source": [
    "start_station_morning_for_map = start_station_morning.iloc[:,1:4]\n",
    "start_station_morning_for_map"
   ]
  },
  {
   "cell_type": "code",
   "execution_count": 29,
   "metadata": {
    "scrolled": true
   },
   "outputs": [
    {
     "data": {
      "text/html": [
       "<div style=\"width:100%;\"><div style=\"position:relative;width:100%;height:0;padding-bottom:60%;\"><iframe src=\"data:text/html;charset=utf-8;base64,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\" style=\"position:absolute;width:100%;height:100%;left:0;top:0;border:none !important;\" allowfullscreen webkitallowfullscreen mozallowfullscreen></iframe></div></div>"
      ],
      "text/plain": [
       "<folium.folium.Map at 0x7f0ba73779b0>"
      ]
     },
     "execution_count": 29,
     "metadata": {},
     "output_type": "execute_result"
    }
   ],
   "source": [
    "map_sf = folium.Map(location=[37.77, -122.42], zoom_start=14)\n",
    "\n",
    "lat = start_station_morning_for_map['latitude']\n",
    "lon = start_station_morning_for_map['longitude']\n",
    "cnt = start_station_morning_for_map['count']\n",
    "\n",
    "coordinates = []\n",
    "for lat, lon, cnt in zip(lat, lon, cnt):\n",
    "    coordinates.append((lat, lon, int(cnt)))\n",
    "map_sf.add_child(HeatMap(coordinates,radius=20))\n",
    "map_sf.save('morning_start.html')\n",
    "map_sf"
   ]
  },
  {
   "cell_type": "code",
   "execution_count": null,
   "metadata": {},
   "outputs": [],
   "source": []
  }
 ],
 "metadata": {
  "kernelspec": {
   "display_name": "Python 3",
   "language": "python",
   "name": "python3"
  },
  "language_info": {
   "codemirror_mode": {
    "name": "ipython",
    "version": 3
   },
   "file_extension": ".py",
   "mimetype": "text/x-python",
   "name": "python",
   "nbconvert_exporter": "python",
   "pygments_lexer": "ipython3",
   "version": "3.6.8"
  }
 },
 "nbformat": 4,
 "nbformat_minor": 2
}
