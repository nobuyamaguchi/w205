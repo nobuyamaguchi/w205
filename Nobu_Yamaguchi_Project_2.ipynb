{
 "cells": [
  {
   "cell_type": "markdown",
   "metadata": {},
   "source": [
    "# W205 Fall Project 2 - Tracking User Activity"
   ]
  },
  {
   "cell_type": "markdown",
   "metadata": {},
   "source": [
    "## Nobu Yamaguchi"
   ]
  },
  {
   "cell_type": "markdown",
   "metadata": {},
   "source": [
    "# *Executive summary*"
   ]
  },
  {
   "cell_type": "markdown",
   "metadata": {},
   "source": [
    "> ## The purpose of this analysis is to show the data scientists three basic business questions to answer about these data."
   ]
  },
  {
   "cell_type": "markdown",
   "metadata": {},
   "source": [
    "### Question 1: How many assessment are there?"
   ]
  },
  {
   "cell_type": "markdown",
   "metadata": {},
   "source": [
    "First of all, it is very important to know how many assessments in the dataset? "
   ]
  },
  {
   "cell_type": "markdown",
   "metadata": {},
   "source": [
    "### Answer 1. There are 3280 assessments."
   ]
  },
  {
   "cell_type": "markdown",
   "metadata": {},
   "source": [
    "Next, in order to understand the overall trend, I answer the following two questions"
   ]
  },
  {
   "cell_type": "markdown",
   "metadata": {},
   "source": [
    "### Question 2-1: What are the top 10 popular exams?"
   ]
  },
  {
   "cell_type": "markdown",
   "metadata": {},
   "source": [
    "### Answer 2-1. \n",
    "```\n",
    "+-----------------------------------------------------------+-----+\n",
    "|exam_name                                                  |count|\n",
    "+-----------------------------------------------------------+-----+\n",
    "|Learning Git                                               |394  |\n",
    "|Introduction to Python                                     |162  |\n",
    "|Introduction to Java 8                                     |158  |\n",
    "|Intermediate Python Programming                            |158  |\n",
    "|Learning to Program with R                                 |128  |\n",
    "|Introduction to Machine Learning                           |119  |\n",
    "|Software Architecture Fundamentals Understanding the Basics|109  |\n",
    "|Beginning C# Programming                                   |95   |\n",
    "|Learning Eclipse                                           |85   |\n",
    "|Learning Apache Maven                                      |80   |\n",
    "+-----------------------------------------------------------+-----+\n",
    "```"
   ]
  },
  {
   "cell_type": "markdown",
   "metadata": {},
   "source": [
    "The table above shows the top 10 popular exams. The most popular one is \"Learning Git\" with 394 count. Also, there are two python exams in the top 10 list. One is \"Introducgtion to Python\" and the other is \"Intermediate Python Programming\"."
   ]
  },
  {
   "cell_type": "markdown",
   "metadata": {},
   "source": [
    "### Question 2-2: What are the least popular exams (the count is less than 4)?"
   ]
  },
  {
   "cell_type": "markdown",
   "metadata": {},
   "source": [
    "### Answer 2-2.\n",
    "```\n",
    "+-------------------------------------------------+-----+\n",
    "|exam_name                                        |count|\n",
    "+-------------------------------------------------+-----+\n",
    "|Learning to Visualize Data with D3.js            |1    |\n",
    "|Native Web Apps for Android                      |1    |\n",
    "|Nulls, Three-valued Logic and Missing Information|1    |\n",
    "|Operating Red Hat Enterprise Linux Servers       |1    |\n",
    "|Learning Spring Programming                      |2    |\n",
    "|Client-Side Data Storage for Web Developers      |2    |\n",
    "|Hibernate and JPA Fundamentals                   |2    |\n",
    "|Arduino Prototyping Techniques                   |2    |\n",
    "|The Closed World Assumption                      |2    |\n",
    "|Understanding the Grails 3 Domain Model          |2    |\n",
    "|What's New in JavaScript                         |2    |\n",
    "|Service Based Architectures                      |3    |\n",
    "|Mastering Web Views                              |3    |\n",
    "|Building Web Services with Java                  |3    |\n",
    "|Getting Ready for Angular 2                      |3    |\n",
    "|Using Web Components                             |3    |\n",
    "+-------------------------------------------------+-----+\n",
    "\n",
    "```"
   ]
  },
  {
   "cell_type": "markdown",
   "metadata": {},
   "source": [
    "### Question 3: What are the avarage grades with standard deviation of the 5 top most popular exams?"
   ]
  },
  {
   "cell_type": "markdown",
   "metadata": {},
   "source": [
    "### Answer 3:\n",
    "```\n",
    "+-------------------------------+-------------+---------+\n",
    "|exam_name                      |average_grade|std_grade|\n",
    "+-------------------------------+-------------+---------+\n",
    "|Learning Git                   |68.0         |31.59    |\n",
    "|Introduction to Python         |57.0         |26.51    |\n",
    "|Introduction to Java 8         |88.0         |18.78    |\n",
    "|Intermediate Python Programming|51.0         |29.88    |\n",
    "|Learning to Program with R     |54.0         |33.07    |\n",
    "+-------------------------------+-------------+---------+\n",
    "```"
   ]
  },
  {
   "cell_type": "markdown",
   "metadata": {},
   "source": [
    "The overall average is 63. \"Learning Git\" and \"Introductory to Jave 8\" have high average."
   ]
  },
  {
   "cell_type": "markdown",
   "metadata": {},
   "source": [
    "# Codes"
   ]
  },
  {
   "cell_type": "code",
   "execution_count": 1,
   "metadata": {
    "collapsed": true
   },
   "outputs": [],
   "source": [
    "import json\n",
    "import pprint\n",
    "import sys\n",
    "from pyspark.sql import Row"
   ]
  },
  {
   "cell_type": "code",
   "execution_count": 2,
   "metadata": {
    "collapsed": true
   },
   "outputs": [],
   "source": [
    "raw_assessments = spark.read.format(\"kafka\").option(\"kafka.bootstrap.servers\", \"kafka:29092\").option(\"subscribe\",\"assessments\").option(\"startingOffsets\", \"earliest\").option(\"endingOffsets\", \"latest\").load() "
   ]
  },
  {
   "cell_type": "code",
   "execution_count": 3,
   "metadata": {},
   "outputs": [
    {
     "data": {
      "text/plain": [
       "DataFrame[key: binary, value: binary, topic: string, partition: int, offset: bigint, timestamp: timestamp, timestampType: int]"
      ]
     },
     "execution_count": 3,
     "metadata": {},
     "output_type": "execute_result"
    }
   ],
   "source": [
    "raw_assessments.cache()"
   ]
  },
  {
   "cell_type": "code",
   "execution_count": 4,
   "metadata": {},
   "outputs": [
    {
     "name": "stdout",
     "output_type": "stream",
     "text": [
      "root\n",
      " |-- key: binary (nullable = true)\n",
      " |-- value: binary (nullable = true)\n",
      " |-- topic: string (nullable = true)\n",
      " |-- partition: integer (nullable = true)\n",
      " |-- offset: long (nullable = true)\n",
      " |-- timestamp: timestamp (nullable = true)\n",
      " |-- timestampType: integer (nullable = true)\n",
      "\n"
     ]
    }
   ],
   "source": [
    "raw_assessments.printSchema()"
   ]
  },
  {
   "cell_type": "code",
   "execution_count": 5,
   "metadata": {
    "collapsed": true
   },
   "outputs": [],
   "source": [
    "assessments = raw_assessments.select(raw_assessments.value.cast('string'))"
   ]
  },
  {
   "cell_type": "code",
   "execution_count": 6,
   "metadata": {
    "collapsed": true
   },
   "outputs": [],
   "source": [
    "assessments.write.parquet(\"/tmp/assessments\")"
   ]
  },
  {
   "cell_type": "markdown",
   "metadata": {},
   "source": [
    "```\n",
    "$ docker-compose exec cloudera hadoop fs -ls /tmp/\n",
    "Found 3 items\n",
    "drwxr-xr-x   - root   supergroup          0 2019-10-21 22:04 /tmp/assessments\n",
    "drwxrwxrwt   - mapred mapred              0 2018-02-06 18:27 /tmp/hadoop-yarn\n",
    "drwx-wx-wx   - root   supergroup          0 2019-10-21 21:46 /tmp/hive\n",
    "```\n",
    "\n",
    "```\n",
    "$ docker-compose exec cloudera hadoop fs -ls /tmp/assessments\n",
    "Found 2 items\n",
    "-rw-r--r--   1 root supergroup          0 2019-10-21 22:04 /tmp/assessments/_SUCCESS\n",
    "-rw-r--r--   1 root supergroup    2513397 2019-10-21 22:04 /tmp/assessments/part-00000-9f8e1619-b84d-41a7-be5f-ab17f83282ce-c000.snappy.parquet\n",
    "```"
   ]
  },
  {
   "cell_type": "code",
   "execution_count": 7,
   "metadata": {
    "collapsed": true
   },
   "outputs": [],
   "source": [
    "extracted_assessments = assessments.rdd.map(lambda x: Row(**json.loads(x.value))).toDF()"
   ]
  },
  {
   "cell_type": "code",
   "execution_count": 8,
   "metadata": {
    "collapsed": true
   },
   "outputs": [],
   "source": [
    "extracted_assessments.registerTempTable('assessments')"
   ]
  },
  {
   "cell_type": "markdown",
   "metadata": {},
   "source": [
    "#### Q1. How many assessment are there?"
   ]
  },
  {
   "cell_type": "code",
   "execution_count": 10,
   "metadata": {},
   "outputs": [
    {
     "name": "stdout",
     "output_type": "stream",
     "text": [
      "+-----+\n",
      "|count|\n",
      "+-----+\n",
      "| 3280|\n",
      "+-----+\n",
      "\n"
     ]
    }
   ],
   "source": [
    "spark.sql(\"select count(*) as count from assessments\").show()"
   ]
  },
  {
   "cell_type": "markdown",
   "metadata": {},
   "source": [
    "#### Question 2-1: What are the top 10 popular exams?"
   ]
  },
  {
   "cell_type": "code",
   "execution_count": 14,
   "metadata": {},
   "outputs": [
    {
     "name": "stdout",
     "output_type": "stream",
     "text": [
      "+-----------------------------------------------------------+-----+\n",
      "|exam_name                                                  |count|\n",
      "+-----------------------------------------------------------+-----+\n",
      "|Learning Git                                               |394  |\n",
      "|Introduction to Python                                     |162  |\n",
      "|Introduction to Java 8                                     |158  |\n",
      "|Intermediate Python Programming                            |158  |\n",
      "|Learning to Program with R                                 |128  |\n",
      "|Introduction to Machine Learning                           |119  |\n",
      "|Software Architecture Fundamentals Understanding the Basics|109  |\n",
      "|Beginning C# Programming                                   |95   |\n",
      "|Learning Eclipse                                           |85   |\n",
      "|Learning Apache Maven                                      |80   |\n",
      "+-----------------------------------------------------------+-----+\n",
      "only showing top 10 rows\n",
      "\n"
     ]
    }
   ],
   "source": [
    "spark.sql(\"select exam_name, count(*) as count from assessments group by exam_name order by count desc\").show(10, False)"
   ]
  },
  {
   "cell_type": "markdown",
   "metadata": {},
   "source": [
    "#### Question 2-2: What are the least popular exams (the count is less than 4)?"
   ]
  },
  {
   "cell_type": "code",
   "execution_count": 15,
   "metadata": {},
   "outputs": [
    {
     "name": "stdout",
     "output_type": "stream",
     "text": [
      "+-------------------------------------------------+-----+\n",
      "|exam_name                                        |count|\n",
      "+-------------------------------------------------+-----+\n",
      "|Learning to Visualize Data with D3.js            |1    |\n",
      "|Native Web Apps for Android                      |1    |\n",
      "|Nulls, Three-valued Logic and Missing Information|1    |\n",
      "|Operating Red Hat Enterprise Linux Servers       |1    |\n",
      "|Learning Spring Programming                      |2    |\n",
      "|Client-Side Data Storage for Web Developers      |2    |\n",
      "|Hibernate and JPA Fundamentals                   |2    |\n",
      "|Arduino Prototyping Techniques                   |2    |\n",
      "|The Closed World Assumption                      |2    |\n",
      "|Understanding the Grails 3 Domain Model          |2    |\n",
      "|What's New in JavaScript                         |2    |\n",
      "|Service Based Architectures                      |3    |\n",
      "|Mastering Web Views                              |3    |\n",
      "|Building Web Services with Java                  |3    |\n",
      "|Getting Ready for Angular 2                      |3    |\n",
      "|Using Web Components                             |3    |\n",
      "+-------------------------------------------------+-----+\n",
      "\n"
     ]
    }
   ],
   "source": [
    "spark.sql(\"select exam_name, count(*) as count from assessments group by exam_name having count(*) < 4 order by count\").show(20, False)"
   ]
  },
  {
   "cell_type": "markdown",
   "metadata": {},
   "source": [
    "#### Question 3: What are the avarage grades of the 5 top most popular exams?"
   ]
  },
  {
   "cell_type": "code",
   "execution_count": 18,
   "metadata": {},
   "outputs": [
    {
     "name": "stdout",
     "output_type": "stream",
     "text": [
      "+-------------------------------+-------------+---------+\n",
      "|exam_name                      |average_grade|std_grade|\n",
      "+-------------------------------+-------------+---------+\n",
      "|Learning Git                   |68.0         |31.59    |\n",
      "|Introduction to Python         |57.0         |26.51    |\n",
      "|Introduction to Java 8         |88.0         |18.78    |\n",
      "|Intermediate Python Programming|51.0         |29.88    |\n",
      "|Learning to Program with R     |54.0         |33.07    |\n",
      "+-------------------------------+-------------+---------+\n",
      "only showing top 5 rows\n",
      "\n"
     ]
    }
   ],
   "source": [
    "def my_lambda_grades(x):\n",
    "    raw_dict = json.loads(x.value)\n",
    "    my_list = []\n",
    "    \n",
    "    for l in raw_dict:\n",
    "        exam_name = raw_dict[\"exam_name\"]\n",
    "        if \"sequences\" in raw_dict:\n",
    "            if \"counts\" in raw_dict[\"sequences\"]:\n",
    "                if \"correct\" in raw_dict[\"sequences\"][\"counts\"] and \"total\" in raw_dict[\"sequences\"][\"counts\"]:\n",
    "                    my_correct = raw_dict[\"sequences\"][\"counts\"][\"correct\"]\n",
    "                    my_total = raw_dict[\"sequences\"][\"counts\"][\"total\"]\n",
    "                    my_dict = {\"exam_name\" : raw_dict[\"exam_name\"], \"correct\" : my_correct, \"total\" : my_total}\n",
    "                    my_list.append(Row(**my_dict))\n",
    "    return my_list\n",
    "\n",
    "my_grades = assessments.rdd.flatMap(my_lambda_grades).toDF()\n",
    "\n",
    "my_grades_2 = my_grades.withColumn(\"grade\", my_grades[\"correct\"]/my_grades[\"total\"]*100)\n",
    "\n",
    "my_grades_2.registerTempTable('grades')\n",
    "\n",
    "spark.sql(\"select exam_name, round(avg(grade)) as average_grade, round(stddev_samp(grade),2) as std_grade from grades group by exam_name order by count(exam_name) desc\").show(5, False)"
   ]
  },
  {
   "cell_type": "markdown",
   "metadata": {},
   "source": [
    "#### Below shows the avarage of total."
   ]
  },
  {
   "cell_type": "code",
   "execution_count": 19,
   "metadata": {},
   "outputs": [
    {
     "name": "stdout",
     "output_type": "stream",
     "text": [
      "+-------------+\n",
      "|average_grade|\n",
      "+-------------+\n",
      "|         63.0|\n",
      "+-------------+\n",
      "\n"
     ]
    }
   ],
   "source": [
    "spark.sql(\"select  round(avg(grade)) as average_grade from grades\").show()"
   ]
  },
  {
   "cell_type": "markdown",
   "metadata": {},
   "source": [
    "## Appendix"
   ]
  },
  {
   "cell_type": "code",
   "execution_count": 133,
   "metadata": {},
   "outputs": [
    {
     "name": "stdout",
     "output_type": "stream",
     "text": [
      "+-----------------------------------------------------------------------+-------------+---------+\n",
      "|exam_name                                                              |average_grade|std_grade|\n",
      "+-----------------------------------------------------------------------+-------------+---------+\n",
      "|Learning to Visualize Data with D3.js                                  |100.0        |0.0      |\n",
      "|Nulls, Three-valued Logic and Missing Information                      |100.0        |0.0      |\n",
      "|The Closed World Assumption                                            |100.0        |0.0      |\n",
      "|Learning SQL for Oracle                                                |98.0         |7.22     |\n",
      "|Introduction to Java 8                                                 |88.0         |18.78    |\n",
      "|Introduction to Apache Spark                                           |83.0         |16.76    |\n",
      "|Introduction to Amazon Web Services (AWS) - EC2 Deployment Fundamentals|83.0         |25.67    |\n",
      "|Getting Ready for Angular 2                                            |80.0         |16.61    |\n",
      "|Cloud Native Architecture Fundamentals                                 |80.0         |22.32    |\n",
      "|Understanding the Grails 3 Domain Model                                |79.0         |7.33     |\n",
      "+-----------------------------------------------------------------------+-------------+---------+\n",
      "only showing top 10 rows\n",
      "\n"
     ]
    }
   ],
   "source": [
    "spark.sql(\"select exam_name, round(avg(grade)) as average_grade, round(stddev_samp(grade),2) as std_grade from grades group by exam_name order by average_grade desc\").show(10, False)"
   ]
  },
  {
   "cell_type": "code",
   "execution_count": 2,
   "metadata": {
    "collapsed": true
   },
   "outputs": [],
   "source": [
    "p = pprint.PrettyPrinter(indent=1)"
   ]
  },
  {
   "cell_type": "code",
   "execution_count": 3,
   "metadata": {
    "collapsed": true
   },
   "outputs": [],
   "source": [
    "f = open(\"assessment-attempts-20180128-121051-nested.json\",\"r\")"
   ]
  },
  {
   "cell_type": "code",
   "execution_count": 4,
   "metadata": {
    "collapsed": true
   },
   "outputs": [],
   "source": [
    "s = f.read()"
   ]
  },
  {
   "cell_type": "code",
   "execution_count": 5,
   "metadata": {
    "collapsed": true
   },
   "outputs": [],
   "source": [
    "json_data = json.loads(s)"
   ]
  },
  {
   "cell_type": "code",
   "execution_count": 6,
   "metadata": {
    "collapsed": true
   },
   "outputs": [],
   "source": [
    "f.close()"
   ]
  },
  {
   "cell_type": "code",
   "execution_count": 7,
   "metadata": {},
   "outputs": [
    {
     "data": {
      "text/plain": [
       "3280"
      ]
     },
     "execution_count": 7,
     "metadata": {},
     "output_type": "execute_result"
    }
   ],
   "source": [
    "len(json_data)"
   ]
  },
  {
   "cell_type": "code",
   "execution_count": 8,
   "metadata": {},
   "outputs": [
    {
     "name": "stdout",
     "output_type": "stream",
     "text": [
      "{'base_exam_id': '37f0a30a-7464-11e6-aa92-a8667f27e5dc',\n",
      " 'certification': 'false',\n",
      " 'exam_name': 'Normal Forms and All That Jazz Master Class',\n",
      " 'keen_created_at': '1516717442.735266',\n",
      " 'keen_id': '5a6745820eb8ab00016be1f1',\n",
      " 'keen_timestamp': '1516717442.735266',\n",
      " 'max_attempts': '1.0',\n",
      " 'sequences': {'attempt': 1,\n",
      "               'counts': {'all_correct': False,\n",
      "                          'correct': 2,\n",
      "                          'incomplete': 1,\n",
      "                          'incorrect': 1,\n",
      "                          'submitted': 4,\n",
      "                          'total': 4,\n",
      "                          'unanswered': 0},\n",
      "               'id': '5b28a462-7a3b-42e0-b508-09f3906d1703',\n",
      "               'questions': [{'id': '7a2ed6d3-f492-49b3-b8aa-d080a8aad986',\n",
      "                              'options': [{'at': '2018-01-23T14:23:24.670Z',\n",
      "                                           'checked': True,\n",
      "                                           'correct': True,\n",
      "                                           'id': '49c574b4-5c82-4ffd-9bd1-c3358faf850d',\n",
      "                                           'submitted': 1},\n",
      "                                          {'at': '2018-01-23T14:23:25.914Z',\n",
      "                                           'checked': True,\n",
      "                                           'correct': True,\n",
      "                                           'id': 'f2528210-35c3-4320-acf3-9056567ea19f',\n",
      "                                           'submitted': 1},\n",
      "                                          {'checked': False,\n",
      "                                           'correct': True,\n",
      "                                           'id': 'd1bf026f-554f-4543-bdd2-54dcf105b826'}],\n",
      "                              'user_correct': False,\n",
      "                              'user_incomplete': True,\n",
      "                              'user_result': 'missed_some',\n",
      "                              'user_submitted': True},\n",
      "                             {'id': 'bbed4358-999d-4462-9596-bad5173a6ecb',\n",
      "                              'options': [{'at': '2018-01-23T14:23:30.116Z',\n",
      "                                           'checked': True,\n",
      "                                           'id': 'a35d0e80-8c49-415d-b8cb-c21a02627e2b',\n",
      "                                           'submitted': 1},\n",
      "                                          {'checked': False,\n",
      "                                           'correct': True,\n",
      "                                           'id': 'bccd6e2e-2cef-4c72-8bfa-317db0ac48bb'},\n",
      "                                          {'at': '2018-01-23T14:23:41.791Z',\n",
      "                                           'checked': True,\n",
      "                                           'correct': True,\n",
      "                                           'id': '7e0b639a-2ef8-4604-b7eb-5018bd81a91b',\n",
      "                                           'submitted': 1}],\n",
      "                              'user_correct': False,\n",
      "                              'user_incomplete': False,\n",
      "                              'user_result': 'incorrect',\n",
      "                              'user_submitted': True},\n",
      "                             {'id': 'e6ad8644-96b1-4617-b37b-a263dded202c',\n",
      "                              'options': [{'at': '2018-01-23T14:23:52.510Z',\n",
      "                                           'checked': False,\n",
      "                                           'id': 'a9333679-de9d-41ff-bb3d-b239d6b95732'},\n",
      "                                          {'checked': False,\n",
      "                                           'id': '85795acc-b4b1-4510-bd6e-41648a3553c9'},\n",
      "                                          {'at': '2018-01-23T14:23:54.223Z',\n",
      "                                           'checked': True,\n",
      "                                           'correct': True,\n",
      "                                           'id': 'c185ecdb-48fb-4edb-ae4e-0204ac7a0909',\n",
      "                                           'submitted': 1},\n",
      "                                          {'at': '2018-01-23T14:23:53.862Z',\n",
      "                                           'checked': True,\n",
      "                                           'correct': True,\n",
      "                                           'id': '77a66c83-d001-45cd-9a5a-6bba8eb7389e',\n",
      "                                           'submitted': 1}],\n",
      "                              'user_correct': True,\n",
      "                              'user_incomplete': False,\n",
      "                              'user_result': 'correct',\n",
      "                              'user_submitted': True},\n",
      "                             {'id': '95194331-ac43-454e-83de-ea8913067055',\n",
      "                              'options': [{'checked': False,\n",
      "                                           'id': '59b9fc4b-f239-4850-b1f9-912d1fd3ca13'},\n",
      "                                          {'checked': False,\n",
      "                                           'id': '2c29e8e8-d4a8-406e-9cdf-de28ec5890fe'},\n",
      "                                          {'checked': False,\n",
      "                                           'id': '62feee6e-9b76-4123-bd9e-c0b35126b1f1'},\n",
      "                                          {'at': '2018-01-23T14:24:00.807Z',\n",
      "                                           'checked': True,\n",
      "                                           'correct': True,\n",
      "                                           'id': '7f13df9c-fcbe-4424-914f-2206f106765c',\n",
      "                                           'submitted': 1}],\n",
      "                              'user_correct': True,\n",
      "                              'user_incomplete': False,\n",
      "                              'user_result': 'correct',\n",
      "                              'user_submitted': True}]},\n",
      " 'started_at': '2018-01-23T14:23:19.082Z',\n",
      " 'user_exam_id': '6d4089e4-bde5-4a22-b65f-18bce9ab79c8'}\n"
     ]
    }
   ],
   "source": [
    "p.pprint(json_data[0])"
   ]
  },
  {
   "cell_type": "code",
   "execution_count": 9,
   "metadata": {
    "collapsed": true
   },
   "outputs": [],
   "source": [
    "def recursive_walk_json_object(j, level):\n",
    "    \"\"\"recursively walk through a json object to explore the structure\n",
    "       dictionaries will be put in alphabetic order to match the pretty print above\"\"\"\n",
    "    \n",
    "    level += 1\n",
    "    \n",
    "    if type(j) is dict:\n",
    "        dict_2_list = list(j.keys())\n",
    "        dict_2_list.sort()\n",
    "        for k in dict_2_list:\n",
    "            print(\"   \" * level + \"L\" + str(level), k)\n",
    "            recursive_walk_json_object(j[k], level)\n",
    "    \n",
    "    elif type(j) is list:\n",
    "        for (i, l) in enumerate(j):\n",
    "            print(\"  \" * level + \"  [\" + str(i) + \"]\")\n",
    "            recursive_walk_json_object(l, level)\n",
    "            \n",
    "    else:\n",
    "        print(\"   \" * level + \" value:\", j)"
   ]
  },
  {
   "cell_type": "code",
   "execution_count": 10,
   "metadata": {},
   "outputs": [
    {
     "name": "stdout",
     "output_type": "stream",
     "text": [
      "L0 base_exam_id\n",
      "    value: 37f0a30a-7464-11e6-aa92-a8667f27e5dc\n",
      "L0 certification\n",
      "    value: false\n",
      "L0 exam_name\n",
      "    value: Normal Forms and All That Jazz Master Class\n",
      "L0 keen_created_at\n",
      "    value: 1516717442.735266\n",
      "L0 keen_id\n",
      "    value: 5a6745820eb8ab00016be1f1\n",
      "L0 keen_timestamp\n",
      "    value: 1516717442.735266\n",
      "L0 max_attempts\n",
      "    value: 1.0\n",
      "L0 sequences\n",
      "   L1 attempt\n",
      "       value: 1\n",
      "   L1 counts\n",
      "      L2 all_correct\n",
      "          value: False\n",
      "      L2 correct\n",
      "          value: 2\n",
      "      L2 incomplete\n",
      "          value: 1\n",
      "      L2 incorrect\n",
      "          value: 1\n",
      "      L2 submitted\n",
      "          value: 4\n",
      "      L2 total\n",
      "          value: 4\n",
      "      L2 unanswered\n",
      "          value: 0\n",
      "   L1 id\n",
      "       value: 5b28a462-7a3b-42e0-b508-09f3906d1703\n",
      "   L1 questions\n",
      "      [0]\n",
      "         L3 id\n",
      "             value: 7a2ed6d3-f492-49b3-b8aa-d080a8aad986\n",
      "         L3 options\n",
      "          [0]\n",
      "               L5 at\n",
      "                   value: 2018-01-23T14:23:24.670Z\n",
      "               L5 checked\n",
      "                   value: True\n",
      "               L5 correct\n",
      "                   value: True\n",
      "               L5 id\n",
      "                   value: 49c574b4-5c82-4ffd-9bd1-c3358faf850d\n",
      "               L5 submitted\n",
      "                   value: 1\n",
      "          [1]\n",
      "               L5 at\n",
      "                   value: 2018-01-23T14:23:25.914Z\n",
      "               L5 checked\n",
      "                   value: True\n",
      "               L5 correct\n",
      "                   value: True\n",
      "               L5 id\n",
      "                   value: f2528210-35c3-4320-acf3-9056567ea19f\n",
      "               L5 submitted\n",
      "                   value: 1\n",
      "          [2]\n",
      "               L5 checked\n",
      "                   value: False\n",
      "               L5 correct\n",
      "                   value: True\n",
      "               L5 id\n",
      "                   value: d1bf026f-554f-4543-bdd2-54dcf105b826\n",
      "         L3 user_correct\n",
      "             value: False\n",
      "         L3 user_incomplete\n",
      "             value: True\n",
      "         L3 user_result\n",
      "             value: missed_some\n",
      "         L3 user_submitted\n",
      "             value: True\n",
      "      [1]\n",
      "         L3 id\n",
      "             value: bbed4358-999d-4462-9596-bad5173a6ecb\n",
      "         L3 options\n",
      "          [0]\n",
      "               L5 at\n",
      "                   value: 2018-01-23T14:23:30.116Z\n",
      "               L5 checked\n",
      "                   value: True\n",
      "               L5 id\n",
      "                   value: a35d0e80-8c49-415d-b8cb-c21a02627e2b\n",
      "               L5 submitted\n",
      "                   value: 1\n",
      "          [1]\n",
      "               L5 checked\n",
      "                   value: False\n",
      "               L5 correct\n",
      "                   value: True\n",
      "               L5 id\n",
      "                   value: bccd6e2e-2cef-4c72-8bfa-317db0ac48bb\n",
      "          [2]\n",
      "               L5 at\n",
      "                   value: 2018-01-23T14:23:41.791Z\n",
      "               L5 checked\n",
      "                   value: True\n",
      "               L5 correct\n",
      "                   value: True\n",
      "               L5 id\n",
      "                   value: 7e0b639a-2ef8-4604-b7eb-5018bd81a91b\n",
      "               L5 submitted\n",
      "                   value: 1\n",
      "         L3 user_correct\n",
      "             value: False\n",
      "         L3 user_incomplete\n",
      "             value: False\n",
      "         L3 user_result\n",
      "             value: incorrect\n",
      "         L3 user_submitted\n",
      "             value: True\n",
      "      [2]\n",
      "         L3 id\n",
      "             value: e6ad8644-96b1-4617-b37b-a263dded202c\n",
      "         L3 options\n",
      "          [0]\n",
      "               L5 at\n",
      "                   value: 2018-01-23T14:23:52.510Z\n",
      "               L5 checked\n",
      "                   value: False\n",
      "               L5 id\n",
      "                   value: a9333679-de9d-41ff-bb3d-b239d6b95732\n",
      "          [1]\n",
      "               L5 checked\n",
      "                   value: False\n",
      "               L5 id\n",
      "                   value: 85795acc-b4b1-4510-bd6e-41648a3553c9\n",
      "          [2]\n",
      "               L5 at\n",
      "                   value: 2018-01-23T14:23:54.223Z\n",
      "               L5 checked\n",
      "                   value: True\n",
      "               L5 correct\n",
      "                   value: True\n",
      "               L5 id\n",
      "                   value: c185ecdb-48fb-4edb-ae4e-0204ac7a0909\n",
      "               L5 submitted\n",
      "                   value: 1\n",
      "          [3]\n",
      "               L5 at\n",
      "                   value: 2018-01-23T14:23:53.862Z\n",
      "               L5 checked\n",
      "                   value: True\n",
      "               L5 correct\n",
      "                   value: True\n",
      "               L5 id\n",
      "                   value: 77a66c83-d001-45cd-9a5a-6bba8eb7389e\n",
      "               L5 submitted\n",
      "                   value: 1\n",
      "         L3 user_correct\n",
      "             value: True\n",
      "         L3 user_incomplete\n",
      "             value: False\n",
      "         L3 user_result\n",
      "             value: correct\n",
      "         L3 user_submitted\n",
      "             value: True\n",
      "      [3]\n",
      "         L3 id\n",
      "             value: 95194331-ac43-454e-83de-ea8913067055\n",
      "         L3 options\n",
      "          [0]\n",
      "               L5 checked\n",
      "                   value: False\n",
      "               L5 id\n",
      "                   value: 59b9fc4b-f239-4850-b1f9-912d1fd3ca13\n",
      "          [1]\n",
      "               L5 checked\n",
      "                   value: False\n",
      "               L5 id\n",
      "                   value: 2c29e8e8-d4a8-406e-9cdf-de28ec5890fe\n",
      "          [2]\n",
      "               L5 checked\n",
      "                   value: False\n",
      "               L5 id\n",
      "                   value: 62feee6e-9b76-4123-bd9e-c0b35126b1f1\n",
      "          [3]\n",
      "               L5 at\n",
      "                   value: 2018-01-23T14:24:00.807Z\n",
      "               L5 checked\n",
      "                   value: True\n",
      "               L5 correct\n",
      "                   value: True\n",
      "               L5 id\n",
      "                   value: 7f13df9c-fcbe-4424-914f-2206f106765c\n",
      "               L5 submitted\n",
      "                   value: 1\n",
      "         L3 user_correct\n",
      "             value: True\n",
      "         L3 user_incomplete\n",
      "             value: False\n",
      "         L3 user_result\n",
      "             value: correct\n",
      "         L3 user_submitted\n",
      "             value: True\n",
      "L0 started_at\n",
      "    value: 2018-01-23T14:23:19.082Z\n",
      "L0 user_exam_id\n",
      "    value: 6d4089e4-bde5-4a22-b65f-18bce9ab79c8\n"
     ]
    }
   ],
   "source": [
    "recursive_walk_json_object(json_data[0], -1)"
   ]
  },
  {
   "cell_type": "code",
   "execution_count": 11,
   "metadata": {},
   "outputs": [
    {
     "name": "stdout",
     "output_type": "stream",
     "text": [
      "    394 \"Learning Git\"\r\n",
      "    162 \"Introduction to Python\"\r\n",
      "    158 \"Introduction to Java 8\"\r\n",
      "    158 \"Intermediate Python Programming\"\r\n",
      "    128 \"Learning to Program with R\"\r\n",
      "    119 \"Introduction to Machine Learning\"\r\n",
      "    109 \"Software Architecture Fundamentals Understanding the Basics\"\r\n",
      "     95 \"Beginning C# Programming\"\r\n",
      "     85 \"Learning Eclipse\"\r\n",
      "     80 \"Learning Apache Maven\"\r\n",
      "     79 \"Beginning Programming with JavaScript\"\r\n",
      "     77 \"Mastering Git\"\r\n",
      "     75 \"Introduction to Big Data\"\r\n",
      "     67 \"Advanced Machine Learning\"\r\n",
      "     59 \"Learning Linux System Administration\"\r\n",
      "     58 \"JavaScript: The Good Parts Master Class with Douglas Crockford\"\r\n",
      "     57 \"Learning SQL\"\r\n",
      "     53 \"Practical Java Programming\"\r\n",
      "     52 \"HTML5 The Basics\"\r\n",
      "     51 \"Python Epiphanies\"\r\n",
      "     48 \"Software Architecture Fundamentals Beyond The Basics\"\r\n",
      "     43 \"Introduction to Data Science with R\"\r\n",
      "     43 \"Intermediate C# Programming\"\r\n",
      "     40 \"Learning DNS\"\r\n",
      "     35 \"Learning C# Best Practices\"\r\n",
      "     35 \"Expert Data Wrangling with R\"\r\n",
      "     34 \"Mastering Advanced Git\"\r\n",
      "     33 \"An Introduction to d3.js: From Scattered to Scatterplot\"\r\n",
      "     31 \"Data Visualization in R with ggplot2\"\r\n",
      "     29 \"Python Data Structures\"\r\n",
      "     29 \"Cloud Native Architecture Fundamentals\"\r\n",
      "     28 \"Introduction to Time Series with Team Apache\"\r\n",
      "     28 \"Git Fundamentals for Web Developers\"\r\n",
      "     27 \"Learning Linux Security\"\r\n",
      "     27 \"Introduction to Shiny\"\r\n",
      "     25 \"Mastering Python - Networking and Security\"\r\n",
      "     25 \"Learning Java EE 7\"\r\n",
      "     24 \"Using R for Big Data with Spark\"\r\n",
      "     23 \"Learning C# Design Patterns\"\r\n",
      "     21 \"TCP/IP\"\r\n",
      "     21 \"Reproducible Research and Reports with R Markdown\"\r\n",
      "     21 \"JavaScript Templating\"\r\n",
      "     17 \"Refactor a Monolithic Architecture into Microservices\"\r\n",
      "     17 \"Learning iPython Notebook\"\r\n",
      "     17 \"Cloud Computing With AWS\"\r\n",
      "     16 \"Learning Apache Hadoop\"\r\n",
      "     15 \"Relational Theory for Computer Professionals\"\r\n",
      "     15 \"Networking for People Who Hate Networking\"\r\n",
      "     15 \"I'm a Software Architect, Now What?\"\r\n",
      "     15 \"Design Patterns in Java\"\r\n",
      "     14 \"Working with Algorithms in Python\"\r\n",
      "     14 \"Introduction to Architecting Amazon Web Services\"\r\n",
      "     14 \"Great Bash\"\r\n",
      "     13 \"Offline Web\"\r\n",
      "     13 \"Learning Data Structures and Algorithms\"\r\n",
      "     13 \"Introduction to Modern Client-Side Programming\"\r\n",
      "     13 \"Introduction to Apache Kafka\"\r\n",
      "     12 \"Learning Apache Cassandra\"\r\n",
      "     12 \"Amazon Web Services - Simple Storage Service\"\r\n",
      "     11 \"The Principles of Microservices\"\r\n",
      "     11 \"SQL: Beyond the Basics\"\r\n",
      "     11 \"Learning SQL for Oracle\"\r\n",
      "     11 \"Amazon Web Services - Virtual Private Cloud\"\r\n",
      "     10 \"Event-Driven Microservices\"\r\n",
      "     10 \"Being a Better Introvert\"\r\n",
      "     10 \"Arduino Prototyping Basics\"\r\n",
      "     10 \"Architectural Considerations for Hadoop Applications\"\r\n",
      "      9 \"Learning Data Modeling\"\r\n",
      "      9 \"Introduction to Apache Spark\"\r\n",
      "      9 \"A Practical Introduction to React.js\"\r\n",
      "      8 \"Web & Native Working Together\"\r\n",
      "      8 \"Nullology\"\r\n",
      "      8 \"Introduction to Hadoop YARN\"\r\n",
      "      8 \"Arduino Inputs\"\r\n",
      "      7 \"Normal Forms and All That Jazz Master Class\"\r\n",
      "      7 \"Introduction to Apache Hive\"\r\n",
      "      7 \"Data Science with Microsoft Azure and R\"\r\n",
      "      6 \"Introduction to Modern Front-End Development\"\r\n",
      "      6 \"Introduction to Amazon Web Services (AWS) - EC2 Deployment Fundamentals\"\r\n",
      "      6 \"Hadoop Fundamentals for Data Scientists\"\r\n",
      "      6 \"Collaborating with Git\"\r\n",
      "      5 \"Starting a Grails 3 Project\"\r\n",
      "      5 \"Modeling for Software Architects\"\r\n",
      "      5 \"Example Exam For Development and Testing oh yeahsdf\"\r\n",
      "      5 \"An Introduction to Set Theory\"\r\n",
      "      4 \"View Updating\"\r\n",
      "      4 \"Using Storytelling to Effectively Communicate Data\"\r\n",
      "      3 \"Using Web Components\"\r\n",
      "      3 \"Service Based Architectures\"\r\n",
      "      3 \"Mastering Web Views\"\r\n",
      "      3 \"Getting Ready for Angular 2\"\r\n",
      "      3 \"Building Web Services with Java\"\r\n",
      "      2 \"What's New in JavaScript\"\r\n",
      "      2 \"Understanding the Grails 3 Domain Model\"\r\n",
      "      2 \"The Closed World Assumption\"\r\n",
      "      2 \"Learning Spring Programming\"\r\n",
      "      2 \"Hibernate and JPA Fundamentals\"\r\n",
      "      2 \"Client-Side Data Storage for Web Developers\"\r\n",
      "      2 \"Arduino Prototyping Techniques\"\r\n",
      "      1 \"Operating Red Hat Enterprise Linux Servers\"\r\n",
      "      1 \"Nulls, Three-valued Logic and Missing Information\"\r\n",
      "      1 \"Native Web Apps for Android\"\r\n",
      "      1 \"Learning to Visualize Data with D3.js\"\r\n"
     ]
    }
   ],
   "source": [
    "!cat assessment-attempts-20180128-121051-nested.json | jq ' .[] | .exam_name' -c | sort | uniq -c | sort -r"
   ]
  },
  {
   "cell_type": "code",
   "execution_count": 12,
   "metadata": {
    "collapsed": true
   },
   "outputs": [],
   "source": [
    "first_message=json.loads(assessments.select('value').take(1)[0].value)"
   ]
  },
  {
   "cell_type": "code",
   "execution_count": 13,
   "metadata": {},
   "outputs": [
    {
     "data": {
      "text/plain": [
       "{'base_exam_id': '37f0a30a-7464-11e6-aa92-a8667f27e5dc',\n",
       " 'certification': 'false',\n",
       " 'exam_name': 'Normal Forms and All That Jazz Master Class',\n",
       " 'keen_created_at': '1516717442.735266',\n",
       " 'keen_id': '5a6745820eb8ab00016be1f1',\n",
       " 'keen_timestamp': '1516717442.735266',\n",
       " 'max_attempts': '1.0',\n",
       " 'sequences': {'attempt': 1,\n",
       "  'counts': {'all_correct': False,\n",
       "   'correct': 2,\n",
       "   'incomplete': 1,\n",
       "   'incorrect': 1,\n",
       "   'submitted': 4,\n",
       "   'total': 4,\n",
       "   'unanswered': 0},\n",
       "  'id': '5b28a462-7a3b-42e0-b508-09f3906d1703',\n",
       "  'questions': [{'id': '7a2ed6d3-f492-49b3-b8aa-d080a8aad986',\n",
       "    'options': [{'at': '2018-01-23T14:23:24.670Z',\n",
       "      'checked': True,\n",
       "      'correct': True,\n",
       "      'id': '49c574b4-5c82-4ffd-9bd1-c3358faf850d',\n",
       "      'submitted': 1},\n",
       "     {'at': '2018-01-23T14:23:25.914Z',\n",
       "      'checked': True,\n",
       "      'correct': True,\n",
       "      'id': 'f2528210-35c3-4320-acf3-9056567ea19f',\n",
       "      'submitted': 1},\n",
       "     {'checked': False,\n",
       "      'correct': True,\n",
       "      'id': 'd1bf026f-554f-4543-bdd2-54dcf105b826'}],\n",
       "    'user_correct': False,\n",
       "    'user_incomplete': True,\n",
       "    'user_result': 'missed_some',\n",
       "    'user_submitted': True},\n",
       "   {'id': 'bbed4358-999d-4462-9596-bad5173a6ecb',\n",
       "    'options': [{'at': '2018-01-23T14:23:30.116Z',\n",
       "      'checked': True,\n",
       "      'id': 'a35d0e80-8c49-415d-b8cb-c21a02627e2b',\n",
       "      'submitted': 1},\n",
       "     {'checked': False,\n",
       "      'correct': True,\n",
       "      'id': 'bccd6e2e-2cef-4c72-8bfa-317db0ac48bb'},\n",
       "     {'at': '2018-01-23T14:23:41.791Z',\n",
       "      'checked': True,\n",
       "      'correct': True,\n",
       "      'id': '7e0b639a-2ef8-4604-b7eb-5018bd81a91b',\n",
       "      'submitted': 1}],\n",
       "    'user_correct': False,\n",
       "    'user_incomplete': False,\n",
       "    'user_result': 'incorrect',\n",
       "    'user_submitted': True},\n",
       "   {'id': 'e6ad8644-96b1-4617-b37b-a263dded202c',\n",
       "    'options': [{'at': '2018-01-23T14:23:52.510Z',\n",
       "      'checked': False,\n",
       "      'id': 'a9333679-de9d-41ff-bb3d-b239d6b95732'},\n",
       "     {'checked': False, 'id': '85795acc-b4b1-4510-bd6e-41648a3553c9'},\n",
       "     {'at': '2018-01-23T14:23:54.223Z',\n",
       "      'checked': True,\n",
       "      'correct': True,\n",
       "      'id': 'c185ecdb-48fb-4edb-ae4e-0204ac7a0909',\n",
       "      'submitted': 1},\n",
       "     {'at': '2018-01-23T14:23:53.862Z',\n",
       "      'checked': True,\n",
       "      'correct': True,\n",
       "      'id': '77a66c83-d001-45cd-9a5a-6bba8eb7389e',\n",
       "      'submitted': 1}],\n",
       "    'user_correct': True,\n",
       "    'user_incomplete': False,\n",
       "    'user_result': 'correct',\n",
       "    'user_submitted': True},\n",
       "   {'id': '95194331-ac43-454e-83de-ea8913067055',\n",
       "    'options': [{'checked': False,\n",
       "      'id': '59b9fc4b-f239-4850-b1f9-912d1fd3ca13'},\n",
       "     {'checked': False, 'id': '2c29e8e8-d4a8-406e-9cdf-de28ec5890fe'},\n",
       "     {'checked': False, 'id': '62feee6e-9b76-4123-bd9e-c0b35126b1f1'},\n",
       "     {'at': '2018-01-23T14:24:00.807Z',\n",
       "      'checked': True,\n",
       "      'correct': True,\n",
       "      'id': '7f13df9c-fcbe-4424-914f-2206f106765c',\n",
       "      'submitted': 1}],\n",
       "    'user_correct': True,\n",
       "    'user_incomplete': False,\n",
       "    'user_result': 'correct',\n",
       "    'user_submitted': True}]},\n",
       " 'started_at': '2018-01-23T14:23:19.082Z',\n",
       " 'user_exam_id': '6d4089e4-bde5-4a22-b65f-18bce9ab79c8'}"
      ]
     },
     "execution_count": 13,
     "metadata": {},
     "output_type": "execute_result"
    }
   ],
   "source": [
    "first_message"
   ]
  },
  {
   "cell_type": "code",
   "execution_count": null,
   "metadata": {
    "collapsed": true
   },
   "outputs": [],
   "source": []
  }
 ],
 "metadata": {
  "kernelspec": {
   "display_name": "Python 3",
   "language": "python",
   "name": "python3"
  },
  "language_info": {
   "codemirror_mode": {
    "name": "ipython",
    "version": 3
   },
   "file_extension": ".py",
   "mimetype": "text/x-python",
   "name": "python",
   "nbconvert_exporter": "python",
   "pygments_lexer": "ipython3",
   "version": "3.6.1"
  }
 },
 "nbformat": 4,
 "nbformat_minor": 2
}
